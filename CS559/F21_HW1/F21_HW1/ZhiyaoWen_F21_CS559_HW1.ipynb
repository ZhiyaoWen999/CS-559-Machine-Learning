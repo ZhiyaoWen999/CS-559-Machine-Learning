{
 "cells": [
  {
   "cell_type": "markdown",
   "metadata": {},
   "source": [
    "# <center> Fall 2021 CS559: Homework #1 </center>"
   ]
  },
  {
   "cell_type": "markdown",
   "metadata": {},
   "source": [
    "### <center> Due: **9/23/2021 Thursday 11:59 PM** </center>\n",
    "\n",
    "\n",
    "\n",
    "- Before you start, rename the file as *LastNameFirstName*_F21_CS559_HW1 (e.g., JangInsuk_F21_CS559_HW1). \n",
    "- Submit the assignment both in format of *ipynb* and *html*. \n",
    "    - Export the file as *HTML* as `File`>`Download as`>`HTML`. \n",
    "    - Do not need to print results of middle-process work. Only the final answers must be printed while all lines must be excuted. \n",
    "    - Clean up unnecessary lines and codes with errors. \n",
    "    - Use *Markdown* to explain answers and results. \n",
    "    - **Do not need to compress** the files. You can submit files individually.\n",
    "    - Only one time submission is allowd \n",
    "- This assignment focuses on topics of linear algebra, probability theory, and EDA. \n",
    "    - For linear algebra questions, when the question says \"implement\", you are not allowed to use any built-in functions from `NumPy` or similar libraries that do the job. (e.g., if the question is to implement dot prodcut function, do not use `numpy.dot`). \n",
    "- This assignment should an individual work. Do not collaborate with classmates or get help from 3rd person. You may surf internet if you need to. Then site the reference. "
   ]
  },
  {
   "cell_type": "markdown",
   "metadata": {},
   "source": [
    "### Problem 1 [20 pts]\n",
    "This problem task to implement functions of matrix operations - multiplication and tranpose. Please do not use numpy matrix packages in implementations.  \n",
    "\n",
    "1-a: Implement a function `mat_product` to calculate the matrix product of two n by n arrays. [8 pts] \n",
    "$$C_{ij}=\\sum_{i,j,k=1}^nA_{ik}B_{kj}$$"
   ]
  },
  {
   "cell_type": "code",
   "execution_count": 36,
   "metadata": {},
   "outputs": [],
   "source": [
    "import numpy as np"
   ]
  },
  {
   "cell_type": "code",
   "execution_count": null,
   "metadata": {},
   "outputs": [],
   "source": []
  },
  {
   "cell_type": "code",
   "execution_count": 78,
   "metadata": {},
   "outputs": [],
   "source": [
    "### Code Starts Here\n",
    "\n",
    "def mat_product(A,B):\n",
    "    \n",
    "    result= np.zeros((len(A),len(B[0])))# elective dtype = np.int\n",
    "    # iterate through rows of A\n",
    "    for i in range(len(A)):\n",
    "       # iterate through columns of B\n",
    "       for j in range(len(B[0])):\n",
    "           # iterate through rows of B\n",
    "           for k in range(len(B)):\n",
    "                result[i][j] += A[i][k] * B[k][j]\n",
    "    return result\n",
    "    \n",
    "    "
   ]
  },
  {
   "cell_type": "markdown",
   "metadata": {},
   "source": [
    "1-b Generate two random 3 by 3 matrices, ${\\bf X}$ and ${\\bf Y}$, whose elements are from 0 to 10. Print the result. [2 pts]"
   ]
  },
  {
   "cell_type": "code",
   "execution_count": 126,
   "metadata": {},
   "outputs": [
    {
     "name": "stdout",
     "output_type": "stream",
     "text": [
      "[[2 2 6]\n",
      " [1 3 9]\n",
      " [6 1 0]]\n",
      "[[1 9 0]\n",
      " [0 9 3]\n",
      " [4 0 0]]\n"
     ]
    }
   ],
   "source": [
    "### Test Starts Here\n",
    "np.random.seed(123)\n",
    "X=np.random.randint(0,10,(3,3))\n",
    "Y=np.random.randint(0,10,(3,3))\n",
    "print(X)\n",
    "print(Y)\n"
   ]
  },
  {
   "cell_type": "code",
   "execution_count": 80,
   "metadata": {},
   "outputs": [
    {
     "name": "stdout",
     "output_type": "stream",
     "text": [
      "[[26 36  6]\n",
      " [37 36  9]\n",
      " [ 6 63  3]]\n"
     ]
    }
   ],
   "source": [
    "print(mat_product(X,Y))"
   ]
  },
  {
   "cell_type": "markdown",
   "metadata": {},
   "source": [
    "1-c Inplement a function `mat_transpose()` that transposes ${\\bf X}$ and use the `mat_product` function to find the matrice of product: $Z={\\bf X}^T\\cdot{\\bf Y}$. Compare the result with using `np.matmul()`. [10 pts]\n"
   ]
  },
  {
   "cell_type": "code",
   "execution_count": 151,
   "metadata": {},
   "outputs": [],
   "source": [
    "### Code Starts Here\n",
    "def mat_transpose(X):\n",
    "    n = len(X)\n",
    "    for i in range(n - 1):\n",
    "        for j in range(i + 1, n):\n",
    "            X[i][j], X[j][i] = X[j][i], X[i][j]\n",
    "            \n",
    "    return X"
   ]
  },
  {
   "cell_type": "code",
   "execution_count": 157,
   "metadata": {},
   "outputs": [
    {
     "data": {
      "text/plain": [
       "array([[2, 2, 6],\n",
       "       [1, 3, 9],\n",
       "       [6, 1, 0]])"
      ]
     },
     "execution_count": 157,
     "metadata": {},
     "output_type": "execute_result"
    }
   ],
   "source": [
    "mat_transpose(X)\n",
    "\n"
   ]
  },
  {
   "cell_type": "code",
   "execution_count": 158,
   "metadata": {},
   "outputs": [
    {
     "name": "stdout",
     "output_type": "stream",
     "text": [
      "[[ 26  27   3]\n",
      " [  6  45   9]\n",
      " [  6 135  27]]\n"
     ]
    }
   ],
   "source": [
    "Z=mat_product(mat_transpose(X),Y)\n",
    "print(Z)"
   ]
  },
  {
   "cell_type": "code",
   "execution_count": 159,
   "metadata": {},
   "outputs": [
    {
     "name": "stdout",
     "output_type": "stream",
     "text": [
      "[[ 26  27   3]\n",
      " [  6  45   9]\n",
      " [  6 135  27]]\n"
     ]
    }
   ],
   "source": [
    "### Code np.matmul() starts here\n",
    "Z=np.matmul(X,Y)\n",
    "print(Z)"
   ]
  },
  {
   "cell_type": "markdown",
   "metadata": {},
   "source": [
    "### Problem 2 [20 pts]\n",
    "2-a: Create a simulatior `coin_prob(pi,n,k)` for $n$ fair coins (whose probability is $\\pi=0.5$) flipping $N$ times with the number of trials increase by the intervals of 50, $t=50,100,150,200,\\cdots,10000$, having $k$ number of heads. [10 pts]\n",
    "\n",
    "   - Use the sample data to compute the maximum likelihood estiamte probabilty $s$, `np.random.binomial()`, of $\\pi$.\n",
    "   - Have the simulator return the result of $t$ and $s$ as a data frame \"ProbTable\". \n",
    "   "
   ]
  },
  {
   "cell_type": "code",
   "execution_count": 255,
   "metadata": {},
   "outputs": [],
   "source": [
    "### Code Starts Here\n",
    "import pandas as pd\n",
    "def coin_prob(pi,n,k):\n",
    "    \"\"\"\n",
    "    Simulator to calculate a probability of n coins \n",
    "    flipping N times with t trials having k number of heads: head (=1)\n",
    "    \"\"\"\n",
    "    ProbTable=pd.DataFrame()\n",
    "    np.random.seed(30)\n",
    "    list=[]\n",
    "    for N in range(50,10050,50):\n",
    "        x=np.random.binomial(n=n, p=pi, size=N)\n",
    "        \n",
    "        s = [np.equal(x,i).mean() for i in range(n+1)]\n",
    "        list.append(s[k])\n",
    "        \n",
    "    ProbTable['t'] =  [N for N in range (50,10050,50)]\n",
    "    # The probability of k\n",
    "    ProbTable['s'] = [list[i] for i in range(len(list))]\n",
    "\n",
    "    \n",
    "    return(ProbTable)"
   ]
  },
  {
   "cell_type": "markdown",
   "metadata": {},
   "source": [
    "2-b: Test the simulator when $n=1$ and $k=1$. Plot the estimates of $\\pi$ as a function of sample size. Indicate the expected probability using a horizontal line. [5 pts]"
   ]
  },
  {
   "cell_type": "code",
   "execution_count": 256,
   "metadata": {},
   "outputs": [
    {
     "name": "stdout",
     "output_type": "stream",
     "text": [
      "         t         s\n",
      "0       50  0.460000\n",
      "1      100  0.450000\n",
      "2      150  0.500000\n",
      "3      200  0.490000\n",
      "4      250  0.508000\n",
      "..     ...       ...\n",
      "195   9800  0.500510\n",
      "196   9850  0.499391\n",
      "197   9900  0.504646\n",
      "198   9950  0.505327\n",
      "199  10000  0.504300\n",
      "\n",
      "[200 rows x 2 columns]\n"
     ]
    }
   ],
   "source": [
    "one_coins=coin_prob(pi=0.5,n=1,k=1)\n",
    "print(one_coins)"
   ]
  },
  {
   "cell_type": "code",
   "execution_count": 267,
   "metadata": {},
   "outputs": [
    {
     "data": {
      "image/png": "[encoded data removed]",
      "text/plain": [
       "<Figure size 432x288 with 1 Axes>"
      ]
     },
     "metadata": {
      "needs_background": "light"
     },
     "output_type": "display_data"
    }
   ],
   "source": [
    "### Code Starts Here\n",
    "import matplotlib.pyplot as plt\n",
    "\n",
    "plt.plot(one_coins.t, one_coins.s, 'g-')\n",
    "plt.axhline(y=0.5, color='r', linestyle='--')\n",
    "plt.xlabel('The number of intervals')\n",
    "plt.ylabel('Probability')\n",
    "plt.title('Probability vs.Times of Experiments ')\n",
    "plt.show()"
   ]
  },
  {
   "cell_type": "markdown",
   "metadata": {},
   "source": [
    "2-c: Calculate the probability of having **1 head ($k=1$)** when 3 coins are flipped. Report the expected value.  [5 pts]"
   ]
  },
  {
   "cell_type": "code",
   "execution_count": 2,
   "metadata": {},
   "outputs": [
    {
     "name": "stdout",
     "output_type": "stream",
     "text": [
      "0.375\n",
      "1.5\n"
     ]
    }
   ],
   "source": [
    "### Code starts here\n",
    "\n",
    "\n",
    "get_Onehead = (1/8)*3\n",
    "Expected_value = (1*get_Onehead) + 2*(3/8)+ 3*(1/8)\n",
    "print(get_Onehead )\n",
    "print(Expected_value)"
   ]
  },
  {
   "cell_type": "markdown",
   "metadata": {},
   "source": [
    "2-d: Evaluate your answer in 3-c using the simulator. Show a plot that supports your evaluation. [3 pts]"
   ]
  },
  {
   "cell_type": "code",
   "execution_count": 291,
   "metadata": {},
   "outputs": [
    {
     "name": "stdout",
     "output_type": "stream",
     "text": [
      "         t         s  Expected_value\n",
      "0       50  0.460000            23.0\n",
      "1      100  0.420000            42.0\n",
      "2      150  0.360000            54.0\n",
      "3      200  0.350000            70.0\n",
      "4      250  0.396000            99.0\n",
      "..     ...       ...             ...\n",
      "195   9800  0.373673          3662.0\n",
      "196   9850  0.380406          3747.0\n",
      "197   9900  0.367576          3639.0\n",
      "198   9950  0.364422          3626.0\n",
      "199  10000  0.373000          3730.0\n",
      "\n",
      "[200 rows x 3 columns]\n"
     ]
    },
    {
     "data": {
      "text/plain": [
       "0.3749860696517413"
      ]
     },
     "execution_count": 291,
     "metadata": {},
     "output_type": "execute_result"
    }
   ],
   "source": [
    "three_coins=coin_prob(pi=0.5,n=3,k=1)\n",
    "#compute Expected value for each times experiments\n",
    "three_coins[\"Expected_value\"]=[three_coins['t'].at[i] * three_coins['s'].at[i] for i in range(len(three_coins))]\n",
    "print(three_coins)\n",
    "E= three_coins[\"Expected_value\"].sum()/three_coins[\"t\"].sum()\n",
    "E"
   ]
  },
  {
   "cell_type": "code",
   "execution_count": 268,
   "metadata": {},
   "outputs": [
    {
     "data": {
      "image/png": "[encoded data removed]",
      "text/plain": [
       "<Figure size 432x288 with 1 Axes>"
      ]
     },
     "metadata": {
      "needs_background": "light"
     },
     "output_type": "display_data"
    }
   ],
   "source": [
    "\"\"\"Plot shows here\"\"\"\n",
    "plt.plot(three_coins.t,three_coins.s)\n",
    "plt.xlabel('The number of intervals')\n",
    "plt.ylabel('Probability')\n",
    "plt.title('Probability vs.Times of Experiments ')\n",
    "plt.show()"
   ]
  },
  {
   "cell_type": "markdown",
   "metadata": {},
   "source": [
    "### Problem 3 [20 pts]\n",
    "\n",
    "Load the Gross Domestic Product data for the 190 ranked countries in the file **GDP.csv**. Load **Country.csv** into a DataFrame. "
   ]
  },
  {
   "cell_type": "code",
   "execution_count": 5,
   "metadata": {},
   "outputs": [
    {
     "name": "stdout",
     "output_type": "stream",
     "text": [
      "    CountryCode  Rank            CountryName           GDP\n",
      "0           USA     1          United States   16,244,600 \n",
      "1           CHN     2                  China    8,227,103 \n",
      "2           JPN     3                  Japan    5,959,718 \n",
      "3           DEU     4                Germany    3,428,131 \n",
      "4           FRA     5                 France    2,612,878 \n",
      "..          ...   ...                    ...           ...\n",
      "185         STP   186  São Tomé and Principe          263 \n",
      "186         PLW   187                  Palau          228 \n",
      "187         MHL   188       Marshall Islands          182 \n",
      "188         KIR   189               Kiribati          175 \n",
      "189         TUV   190                 Tuvalu           40 \n",
      "\n",
      "[190 rows x 4 columns]\n",
      "    CountryCode                         Long Name          Income Group  \\\n",
      "0           ABW                             Aruba  High income: nonOECD   \n",
      "1           ADO           Principality of Andorra  High income: nonOECD   \n",
      "2           AFG      Islamic State of Afghanistan            Low income   \n",
      "3           AGO       People's Republic of Angola   Lower middle income   \n",
      "4           ALB               Republic of Albania   Upper middle income   \n",
      "..          ...                               ...                   ...   \n",
      "229         YEM                 Republic of Yemen   Lower middle income   \n",
      "230         ZAF          Republic of South Africa   Upper middle income   \n",
      "231         ZAR  Democratic Republic of the Congo            Low income   \n",
      "232         ZMB                Republic of Zambia            Low income   \n",
      "233         ZWE              Republic of Zimbabwe            Low income   \n",
      "\n",
      "                         Region Lending category Other groups  \\\n",
      "0     Latin America & Caribbean              NaN          NaN   \n",
      "1         Europe & Central Asia              NaN          NaN   \n",
      "2                    South Asia              IDA         HIPC   \n",
      "3            Sub-Saharan Africa              IDA          NaN   \n",
      "4         Europe & Central Asia             IBRD          NaN   \n",
      "..                          ...              ...          ...   \n",
      "229  Middle East & North Africa              IDA          NaN   \n",
      "230          Sub-Saharan Africa             IBRD          NaN   \n",
      "231          Sub-Saharan Africa              IDA         HIPC   \n",
      "232          Sub-Saharan Africa              IDA         HIPC   \n",
      "233          Sub-Saharan Africa            Blend          NaN   \n",
      "\n",
      "          Currency Unit Latest population census   Latest household survey  \\\n",
      "0         Aruban florin                     2000                       NaN   \n",
      "1                  Euro           Register based                       NaN   \n",
      "2        Afghan afghani                     1979                MICS, 2003   \n",
      "3        Angolan kwanza                     1970  MICS, 2001, MIS, 2006/07   \n",
      "4          Albanian lek                     2001                MICS, 2005   \n",
      "..                  ...                      ...                       ...   \n",
      "229         Yemeni rial                     2004                MICS, 2006   \n",
      "230  South African rand                     2001                 DHS, 2003   \n",
      "231     Congolese franc                     1984                  DHS 2007   \n",
      "232      Zambian kwacha                     2000                 DHS, 2007   \n",
      "233     Zimbabwe dollar                     2002              DHS, 2005/06   \n",
      "\n",
      "                                         Special Notes  ...  \\\n",
      "0                                                  NaN  ...   \n",
      "1                                                  NaN  ...   \n",
      "2    Fiscal year end: March 20; reporting period fo...  ...   \n",
      "3                                                  NaN  ...   \n",
      "4                                                  NaN  ...   \n",
      "..                                                 ...  ...   \n",
      "229                                                NaN  ...   \n",
      "230  Fiscal year end: March 31; reporting period fo...  ...   \n",
      "231                                                NaN  ...   \n",
      "232                                                NaN  ...   \n",
      "233  Fiscal year end: June 30; reporting period for...  ...   \n",
      "\n",
      "    Source of most recent Income and expenditure data  \\\n",
      "0                                                 NaN   \n",
      "1                                                 NaN   \n",
      "2                                                 NaN   \n",
      "3                                           IHS, 2000   \n",
      "4                                          LSMS, 2005   \n",
      "..                                                ...   \n",
      "229                                       ES/BS, 2005   \n",
      "230                                       ES/BS, 2000   \n",
      "231                                    1-2-3, 2005-06   \n",
      "232                                      IHS, 2004-05   \n",
      "233                                               NaN   \n",
      "\n",
      "     Vital registration complete  Latest agricultural census  \\\n",
      "0                            NaN                         NaN   \n",
      "1                            Yes                         NaN   \n",
      "2                            NaN                         NaN   \n",
      "3                            NaN                     1964-65   \n",
      "4                            Yes                        1998   \n",
      "..                           ...                         ...   \n",
      "229                          NaN                        2002   \n",
      "230                          NaN                        2000   \n",
      "231                          NaN                        1990   \n",
      "232                          NaN                        1990   \n",
      "233                          NaN                        1960   \n",
      "\n",
      "    Latest industrial data Latest trade data  Latest water withdrawal data  \\\n",
      "0                      NaN            2008.0                           NaN   \n",
      "1                      NaN            2006.0                           NaN   \n",
      "2                      NaN            2008.0                        2000.0   \n",
      "3                      NaN            1991.0                        2000.0   \n",
      "4                   2005.0            2008.0                        2000.0   \n",
      "..                     ...               ...                           ...   \n",
      "229                 2005.0            2008.0                        2000.0   \n",
      "230                 2005.0            2008.0                        2000.0   \n",
      "231                    NaN            1986.0                        2000.0   \n",
      "232                    NaN            2008.0                        2000.0   \n",
      "233                 1995.0            2008.0                        2002.0   \n",
      "\n",
      "    2-alpha code WB-2 code        Table Name       Short Name  \n",
      "0             AW        AW             Aruba            Aruba  \n",
      "1             AD        AD           Andorra          Andorra  \n",
      "2             AF        AF       Afghanistan      Afghanistan  \n",
      "3             AO        AO            Angola           Angola  \n",
      "4             AL        AL           Albania          Albania  \n",
      "..           ...       ...               ...              ...  \n",
      "229           YE        RY       Yemen, Rep.            Yemen  \n",
      "230           ZA        ZA      South Africa     South Africa  \n",
      "231           CD        ZR  Congo, Dem. Rep.  Dem. Rep. Congo  \n",
      "232           ZM        ZM            Zambia           Zambia  \n",
      "233           ZW        ZW          Zimbabwe         Zimbabwe  \n",
      "\n",
      "[234 rows x 31 columns]\n"
     ]
    }
   ],
   "source": [
    "import pandas as pd\n",
    "\n",
    "gdp = pd.read_csv('GDP.csv', skiprows=range(5), header= None, usecols=[0,1,3,4], nrows=190,encoding='ISO-8859-1')\n",
    "gdp.columns = ['CountryCode', 'Rank', 'CountryName', 'GDP']\n",
    "Country = pd.read_csv('Country.csv',encoding='ISO-8859-1')\n",
    "print(gdp)\n",
    "print(Country)"
   ]
  },
  {
   "cell_type": "markdown",
   "metadata": {},
   "source": [
    "3-a: Match the `CountryCode` and merge two data frames. Call the new data frame as `Country_GDP`. How many of the IDs match?\n",
    "Use the link for hints: https://pandas.pydata.org/pandas-docs/stable/user_guide/merging.html [5 pts]"
   ]
  },
  {
   "cell_type": "code",
   "execution_count": 6,
   "metadata": {},
   "outputs": [],
   "source": [
    "### Code Starts Here\n",
    "Country_GDP=pd.merge(Country,gdp,on=\"CountryCode\",how='inner')\n",
    "\n",
    "\n",
    "#There are 189 IDs match"
   ]
  },
  {
   "cell_type": "code",
   "execution_count": 7,
   "metadata": {},
   "outputs": [
    {
     "name": "stdout",
     "output_type": "stream",
     "text": [
      "0      ABW\n",
      "1      AFG\n",
      "2      AGO\n",
      "3      ALB\n",
      "4      ARE\n",
      "      ... \n",
      "184    YEM\n",
      "185    ZAF\n",
      "186    ZAR\n",
      "187    ZMB\n",
      "188    ZWE\n",
      "Name: CountryCode, Length: 189, dtype: object\n",
      "189\n"
     ]
    }
   ],
   "source": [
    "### Print the number of IDs\n",
    "print(Country_GDP[\"CountryCode\"])\n",
    "print(Country_GDP[\"CountryCode\"].count())"
   ]
  },
  {
   "cell_type": "code",
   "execution_count": 8,
   "metadata": {},
   "outputs": [
    {
     "data": {
      "text/html": [
       "<div>\n",
       "<style scoped>\n",
       "    .dataframe tbody tr th:only-of-type {\n",
       "        vertical-align: middle;\n",
       "    }\n",
       "\n",
       "    .dataframe tbody tr th {\n",
       "        vertical-align: top;\n",
       "    }\n",
       "\n",
       "    .dataframe thead th {\n",
       "        text-align: right;\n",
       "    }\n",
       "</style>\n",
       "<table border=\"1\" class=\"dataframe\">\n",
       "  <thead>\n",
       "    <tr style=\"text-align: right;\">\n",
       "      <th></th>\n",
       "      <th>CountryCode</th>\n",
       "      <th>Long Name</th>\n",
       "      <th>Income Group</th>\n",
       "      <th>Region</th>\n",
       "      <th>Lending category</th>\n",
       "      <th>Other groups</th>\n",
       "      <th>Currency Unit</th>\n",
       "      <th>Latest population census</th>\n",
       "      <th>Latest household survey</th>\n",
       "      <th>Special Notes</th>\n",
       "      <th>...</th>\n",
       "      <th>Latest industrial data</th>\n",
       "      <th>Latest trade data</th>\n",
       "      <th>Latest water withdrawal data</th>\n",
       "      <th>2-alpha code</th>\n",
       "      <th>WB-2 code</th>\n",
       "      <th>Table Name</th>\n",
       "      <th>Short Name</th>\n",
       "      <th>Rank</th>\n",
       "      <th>CountryName</th>\n",
       "      <th>GDP</th>\n",
       "    </tr>\n",
       "  </thead>\n",
       "  <tbody>\n",
       "    <tr>\n",
       "      <th>0</th>\n",
       "      <td>ABW</td>\n",
       "      <td>Aruba</td>\n",
       "      <td>High income: nonOECD</td>\n",
       "      <td>Latin America &amp; Caribbean</td>\n",
       "      <td>NaN</td>\n",
       "      <td>NaN</td>\n",
       "      <td>Aruban florin</td>\n",
       "      <td>2000</td>\n",
       "      <td>NaN</td>\n",
       "      <td>NaN</td>\n",
       "      <td>...</td>\n",
       "      <td>NaN</td>\n",
       "      <td>2008.0</td>\n",
       "      <td>NaN</td>\n",
       "      <td>AW</td>\n",
       "      <td>AW</td>\n",
       "      <td>Aruba</td>\n",
       "      <td>Aruba</td>\n",
       "      <td>161</td>\n",
       "      <td>Aruba</td>\n",
       "      <td>2,584</td>\n",
       "    </tr>\n",
       "    <tr>\n",
       "      <th>1</th>\n",
       "      <td>AFG</td>\n",
       "      <td>Islamic State of Afghanistan</td>\n",
       "      <td>Low income</td>\n",
       "      <td>South Asia</td>\n",
       "      <td>IDA</td>\n",
       "      <td>HIPC</td>\n",
       "      <td>Afghan afghani</td>\n",
       "      <td>1979</td>\n",
       "      <td>MICS, 2003</td>\n",
       "      <td>Fiscal year end: March 20; reporting period fo...</td>\n",
       "      <td>...</td>\n",
       "      <td>NaN</td>\n",
       "      <td>2008.0</td>\n",
       "      <td>2000.0</td>\n",
       "      <td>AF</td>\n",
       "      <td>AF</td>\n",
       "      <td>Afghanistan</td>\n",
       "      <td>Afghanistan</td>\n",
       "      <td>105</td>\n",
       "      <td>Afghanistan</td>\n",
       "      <td>20,497</td>\n",
       "    </tr>\n",
       "    <tr>\n",
       "      <th>2</th>\n",
       "      <td>AGO</td>\n",
       "      <td>People's Republic of Angola</td>\n",
       "      <td>Lower middle income</td>\n",
       "      <td>Sub-Saharan Africa</td>\n",
       "      <td>IDA</td>\n",
       "      <td>NaN</td>\n",
       "      <td>Angolan kwanza</td>\n",
       "      <td>1970</td>\n",
       "      <td>MICS, 2001, MIS, 2006/07</td>\n",
       "      <td>NaN</td>\n",
       "      <td>...</td>\n",
       "      <td>NaN</td>\n",
       "      <td>1991.0</td>\n",
       "      <td>2000.0</td>\n",
       "      <td>AO</td>\n",
       "      <td>AO</td>\n",
       "      <td>Angola</td>\n",
       "      <td>Angola</td>\n",
       "      <td>60</td>\n",
       "      <td>Angola</td>\n",
       "      <td>114,147</td>\n",
       "    </tr>\n",
       "    <tr>\n",
       "      <th>3</th>\n",
       "      <td>ALB</td>\n",
       "      <td>Republic of Albania</td>\n",
       "      <td>Upper middle income</td>\n",
       "      <td>Europe &amp; Central Asia</td>\n",
       "      <td>IBRD</td>\n",
       "      <td>NaN</td>\n",
       "      <td>Albanian lek</td>\n",
       "      <td>2001</td>\n",
       "      <td>MICS, 2005</td>\n",
       "      <td>NaN</td>\n",
       "      <td>...</td>\n",
       "      <td>2005.0</td>\n",
       "      <td>2008.0</td>\n",
       "      <td>2000.0</td>\n",
       "      <td>AL</td>\n",
       "      <td>AL</td>\n",
       "      <td>Albania</td>\n",
       "      <td>Albania</td>\n",
       "      <td>125</td>\n",
       "      <td>Albania</td>\n",
       "      <td>12,648</td>\n",
       "    </tr>\n",
       "    <tr>\n",
       "      <th>4</th>\n",
       "      <td>ARE</td>\n",
       "      <td>United Arab Emirates</td>\n",
       "      <td>High income: nonOECD</td>\n",
       "      <td>Middle East &amp; North Africa</td>\n",
       "      <td>NaN</td>\n",
       "      <td>NaN</td>\n",
       "      <td>U.A.E. dirham</td>\n",
       "      <td>2005</td>\n",
       "      <td>NaN</td>\n",
       "      <td>NaN</td>\n",
       "      <td>...</td>\n",
       "      <td>NaN</td>\n",
       "      <td>2008.0</td>\n",
       "      <td>2005.0</td>\n",
       "      <td>AE</td>\n",
       "      <td>AE</td>\n",
       "      <td>United Arab Emirates</td>\n",
       "      <td>United Arab Emirates</td>\n",
       "      <td>32</td>\n",
       "      <td>United Arab Emirates</td>\n",
       "      <td>348,595</td>\n",
       "    </tr>\n",
       "    <tr>\n",
       "      <th>...</th>\n",
       "      <td>...</td>\n",
       "      <td>...</td>\n",
       "      <td>...</td>\n",
       "      <td>...</td>\n",
       "      <td>...</td>\n",
       "      <td>...</td>\n",
       "      <td>...</td>\n",
       "      <td>...</td>\n",
       "      <td>...</td>\n",
       "      <td>...</td>\n",
       "      <td>...</td>\n",
       "      <td>...</td>\n",
       "      <td>...</td>\n",
       "      <td>...</td>\n",
       "      <td>...</td>\n",
       "      <td>...</td>\n",
       "      <td>...</td>\n",
       "      <td>...</td>\n",
       "      <td>...</td>\n",
       "      <td>...</td>\n",
       "      <td>...</td>\n",
       "    </tr>\n",
       "    <tr>\n",
       "      <th>184</th>\n",
       "      <td>YEM</td>\n",
       "      <td>Republic of Yemen</td>\n",
       "      <td>Lower middle income</td>\n",
       "      <td>Middle East &amp; North Africa</td>\n",
       "      <td>IDA</td>\n",
       "      <td>NaN</td>\n",
       "      <td>Yemeni rial</td>\n",
       "      <td>2004</td>\n",
       "      <td>MICS, 2006</td>\n",
       "      <td>NaN</td>\n",
       "      <td>...</td>\n",
       "      <td>2005.0</td>\n",
       "      <td>2008.0</td>\n",
       "      <td>2000.0</td>\n",
       "      <td>YE</td>\n",
       "      <td>RY</td>\n",
       "      <td>Yemen, Rep.</td>\n",
       "      <td>Yemen</td>\n",
       "      <td>90</td>\n",
       "      <td>Yemen, Rep.</td>\n",
       "      <td>35,646</td>\n",
       "    </tr>\n",
       "    <tr>\n",
       "      <th>185</th>\n",
       "      <td>ZAF</td>\n",
       "      <td>Republic of South Africa</td>\n",
       "      <td>Upper middle income</td>\n",
       "      <td>Sub-Saharan Africa</td>\n",
       "      <td>IBRD</td>\n",
       "      <td>NaN</td>\n",
       "      <td>South African rand</td>\n",
       "      <td>2001</td>\n",
       "      <td>DHS, 2003</td>\n",
       "      <td>Fiscal year end: March 31; reporting period fo...</td>\n",
       "      <td>...</td>\n",
       "      <td>2005.0</td>\n",
       "      <td>2008.0</td>\n",
       "      <td>2000.0</td>\n",
       "      <td>ZA</td>\n",
       "      <td>ZA</td>\n",
       "      <td>South Africa</td>\n",
       "      <td>South Africa</td>\n",
       "      <td>28</td>\n",
       "      <td>South Africa</td>\n",
       "      <td>384,313</td>\n",
       "    </tr>\n",
       "    <tr>\n",
       "      <th>186</th>\n",
       "      <td>ZAR</td>\n",
       "      <td>Democratic Republic of the Congo</td>\n",
       "      <td>Low income</td>\n",
       "      <td>Sub-Saharan Africa</td>\n",
       "      <td>IDA</td>\n",
       "      <td>HIPC</td>\n",
       "      <td>Congolese franc</td>\n",
       "      <td>1984</td>\n",
       "      <td>DHS 2007</td>\n",
       "      <td>NaN</td>\n",
       "      <td>...</td>\n",
       "      <td>NaN</td>\n",
       "      <td>1986.0</td>\n",
       "      <td>2000.0</td>\n",
       "      <td>CD</td>\n",
       "      <td>ZR</td>\n",
       "      <td>Congo, Dem. Rep.</td>\n",
       "      <td>Dem. Rep. Congo</td>\n",
       "      <td>112</td>\n",
       "      <td>Congo, Dem. Rep.</td>\n",
       "      <td>17,204</td>\n",
       "    </tr>\n",
       "    <tr>\n",
       "      <th>187</th>\n",
       "      <td>ZMB</td>\n",
       "      <td>Republic of Zambia</td>\n",
       "      <td>Low income</td>\n",
       "      <td>Sub-Saharan Africa</td>\n",
       "      <td>IDA</td>\n",
       "      <td>HIPC</td>\n",
       "      <td>Zambian kwacha</td>\n",
       "      <td>2000</td>\n",
       "      <td>DHS, 2007</td>\n",
       "      <td>NaN</td>\n",
       "      <td>...</td>\n",
       "      <td>NaN</td>\n",
       "      <td>2008.0</td>\n",
       "      <td>2000.0</td>\n",
       "      <td>ZM</td>\n",
       "      <td>ZM</td>\n",
       "      <td>Zambia</td>\n",
       "      <td>Zambia</td>\n",
       "      <td>104</td>\n",
       "      <td>Zambia</td>\n",
       "      <td>20,678</td>\n",
       "    </tr>\n",
       "    <tr>\n",
       "      <th>188</th>\n",
       "      <td>ZWE</td>\n",
       "      <td>Republic of Zimbabwe</td>\n",
       "      <td>Low income</td>\n",
       "      <td>Sub-Saharan Africa</td>\n",
       "      <td>Blend</td>\n",
       "      <td>NaN</td>\n",
       "      <td>Zimbabwe dollar</td>\n",
       "      <td>2002</td>\n",
       "      <td>DHS, 2005/06</td>\n",
       "      <td>Fiscal year end: June 30; reporting period for...</td>\n",
       "      <td>...</td>\n",
       "      <td>1995.0</td>\n",
       "      <td>2008.0</td>\n",
       "      <td>2002.0</td>\n",
       "      <td>ZW</td>\n",
       "      <td>ZW</td>\n",
       "      <td>Zimbabwe</td>\n",
       "      <td>Zimbabwe</td>\n",
       "      <td>134</td>\n",
       "      <td>Zimbabwe</td>\n",
       "      <td>9,802</td>\n",
       "    </tr>\n",
       "  </tbody>\n",
       "</table>\n",
       "<p>189 rows × 34 columns</p>\n",
       "</div>"
      ],
      "text/plain": [
       "    CountryCode                         Long Name          Income Group  \\\n",
       "0           ABW                             Aruba  High income: nonOECD   \n",
       "1           AFG      Islamic State of Afghanistan            Low income   \n",
       "2           AGO       People's Republic of Angola   Lower middle income   \n",
       "3           ALB               Republic of Albania   Upper middle income   \n",
       "4           ARE              United Arab Emirates  High income: nonOECD   \n",
       "..          ...                               ...                   ...   \n",
       "184         YEM                 Republic of Yemen   Lower middle income   \n",
       "185         ZAF          Republic of South Africa   Upper middle income   \n",
       "186         ZAR  Democratic Republic of the Congo            Low income   \n",
       "187         ZMB                Republic of Zambia            Low income   \n",
       "188         ZWE              Republic of Zimbabwe            Low income   \n",
       "\n",
       "                         Region Lending category Other groups  \\\n",
       "0     Latin America & Caribbean              NaN          NaN   \n",
       "1                    South Asia              IDA         HIPC   \n",
       "2            Sub-Saharan Africa              IDA          NaN   \n",
       "3         Europe & Central Asia             IBRD          NaN   \n",
       "4    Middle East & North Africa              NaN          NaN   \n",
       "..                          ...              ...          ...   \n",
       "184  Middle East & North Africa              IDA          NaN   \n",
       "185          Sub-Saharan Africa             IBRD          NaN   \n",
       "186          Sub-Saharan Africa              IDA         HIPC   \n",
       "187          Sub-Saharan Africa              IDA         HIPC   \n",
       "188          Sub-Saharan Africa            Blend          NaN   \n",
       "\n",
       "          Currency Unit Latest population census   Latest household survey  \\\n",
       "0         Aruban florin                     2000                       NaN   \n",
       "1        Afghan afghani                     1979                MICS, 2003   \n",
       "2        Angolan kwanza                     1970  MICS, 2001, MIS, 2006/07   \n",
       "3          Albanian lek                     2001                MICS, 2005   \n",
       "4         U.A.E. dirham                     2005                       NaN   \n",
       "..                  ...                      ...                       ...   \n",
       "184         Yemeni rial                     2004                MICS, 2006   \n",
       "185  South African rand                     2001                 DHS, 2003   \n",
       "186     Congolese franc                     1984                  DHS 2007   \n",
       "187      Zambian kwacha                     2000                 DHS, 2007   \n",
       "188     Zimbabwe dollar                     2002              DHS, 2005/06   \n",
       "\n",
       "                                         Special Notes  ...  \\\n",
       "0                                                  NaN  ...   \n",
       "1    Fiscal year end: March 20; reporting period fo...  ...   \n",
       "2                                                  NaN  ...   \n",
       "3                                                  NaN  ...   \n",
       "4                                                  NaN  ...   \n",
       "..                                                 ...  ...   \n",
       "184                                                NaN  ...   \n",
       "185  Fiscal year end: March 31; reporting period fo...  ...   \n",
       "186                                                NaN  ...   \n",
       "187                                                NaN  ...   \n",
       "188  Fiscal year end: June 30; reporting period for...  ...   \n",
       "\n",
       "    Latest industrial data  Latest trade data  Latest water withdrawal data  \\\n",
       "0                      NaN             2008.0                           NaN   \n",
       "1                      NaN             2008.0                        2000.0   \n",
       "2                      NaN             1991.0                        2000.0   \n",
       "3                   2005.0             2008.0                        2000.0   \n",
       "4                      NaN             2008.0                        2005.0   \n",
       "..                     ...                ...                           ...   \n",
       "184                 2005.0             2008.0                        2000.0   \n",
       "185                 2005.0             2008.0                        2000.0   \n",
       "186                    NaN             1986.0                        2000.0   \n",
       "187                    NaN             2008.0                        2000.0   \n",
       "188                 1995.0             2008.0                        2002.0   \n",
       "\n",
       "    2-alpha code WB-2 code            Table Name            Short Name Rank  \\\n",
       "0             AW        AW                 Aruba                 Aruba  161   \n",
       "1             AF        AF           Afghanistan           Afghanistan  105   \n",
       "2             AO        AO                Angola                Angola   60   \n",
       "3             AL        AL               Albania               Albania  125   \n",
       "4             AE        AE  United Arab Emirates  United Arab Emirates   32   \n",
       "..           ...       ...                   ...                   ...  ...   \n",
       "184           YE        RY           Yemen, Rep.                 Yemen   90   \n",
       "185           ZA        ZA          South Africa          South Africa   28   \n",
       "186           CD        ZR      Congo, Dem. Rep.       Dem. Rep. Congo  112   \n",
       "187           ZM        ZM                Zambia                Zambia  104   \n",
       "188           ZW        ZW              Zimbabwe              Zimbabwe  134   \n",
       "\n",
       "              CountryName        GDP  \n",
       "0                   Aruba     2,584   \n",
       "1             Afghanistan    20,497   \n",
       "2                  Angola   114,147   \n",
       "3                 Albania    12,648   \n",
       "4    United Arab Emirates   348,595   \n",
       "..                    ...        ...  \n",
       "184           Yemen, Rep.    35,646   \n",
       "185          South Africa   384,313   \n",
       "186      Congo, Dem. Rep.    17,204   \n",
       "187                Zambia    20,678   \n",
       "188              Zimbabwe     9,802   \n",
       "\n",
       "[189 rows x 34 columns]"
      ]
     },
     "execution_count": 8,
     "metadata": {},
     "output_type": "execute_result"
    }
   ],
   "source": [
    "Country_GDP"
   ]
  },
  {
   "cell_type": "markdown",
   "metadata": {},
   "source": [
    "3-b: Use visualization to determine the number of countries by `Region`. Which region has the largest number of countries? [5 pts]"
   ]
  },
  {
   "cell_type": "code",
   "execution_count": 9,
   "metadata": {},
   "outputs": [
    {
     "data": {
      "text/plain": [
       "<BarContainer object of 7 artists>"
      ]
     },
     "execution_count": 9,
     "metadata": {},
     "output_type": "execute_result"
    },
    {
     "data": {
      "image/png": "[encoded data removed]",
      "text/plain": [
       "<Figure size 1600x640 with 1 Axes>"
      ]
     },
     "metadata": {
      "needs_background": "light"
     },
     "output_type": "display_data"
    }
   ],
   "source": [
    "### Code Starts Here\n",
    "\n",
    "import matplotlib.pyplot as plt\n",
    "x = Country_GDP['Region'].unique()\n",
    "\n",
    "#plt.bar(x,Country_GDP['Region'])\n",
    "y=Country_GDP['Region'].value_counts()\n",
    "\n",
    "plt.figure(figsize=(20,8),dpi=80)\n",
    "plt.bar(x,y)\n",
    "\n",
    "#Latin America & Caribbean has the largest number of countries"
   ]
  },
  {
   "cell_type": "markdown",
   "metadata": {},
   "source": [
    "3-c: Test how GDPs are alike between regions using two-sample **Kolmogorov-Smirnov** test `ks_2samp()`. Make a data table show $KS-test$ and $p-$ values. Evalueate the result. Expian which regions have similar distributions. [5 pts]"
   ]
  },
  {
   "cell_type": "code",
   "execution_count": 79,
   "metadata": {},
   "outputs": [
    {
     "name": "stdout",
     "output_type": "stream",
     "text": [
      "{'A_B': 0.27379310344827584, 'A_C': 0.1852216748768473, 'A_D': 0.3103448275862069, 'A_E': 0.39080459770114945, 'A_F': 0.46120689655172414, 'A_G': 0.11619190404797601, 'B_C': 0.15142857142857144, 'B_D': 0.17777777777777778, 'B_E': 0.5666666666666667, 'B_F': 0.515, 'B_G': 0.2426086956521739, 'C_D': 0.23174603174603176, 'C_E': 0.4666666666666667, 'C_F': 0.5321428571428571, 'C_G': 0.1826086956521739, 'D_E': 0.6666666666666666, 'D_F': 0.6527777777777778, 'D_G': 0.34541062801932365, 'E_F': 0.2916666666666667, 'E_G': 0.38405797101449274, 'F_G': 0.41847826086956524}\n",
      "{'A_B': 0.10097010509209547, 'A_C': 0.5704150820425788, 'A_D': 0.1805890146990461, 'A_E': 0.6661290322580645, 'A_F': 0.09913546460036038, 'A_G': 0.9385183293673834, 'B_C': 0.6713244703950487, 'B_D': 0.7273721456217959, 'B_E': 0.22479296508153346, 'B_F': 0.033054445369054664, 'B_G': 0.09664174523993718, 'C_D': 0.47607784775858863, 'C_E': 0.45993361782835473, 'C_F': 0.032432013146703964, 'C_G': 0.4554490408888823, 'D_E': 0.14436090225563925, 'D_F': 0.009827975228432928, 'D_G': 0.06904411164914515, 'E_F': 0.9757575757575757, 'E_G': 0.677594442032132, 'F_G': 0.1359246900371418}\n"
     ]
    },
    {
     "data": {
      "text/html": [
       "<div>\n",
       "<style scoped>\n",
       "    .dataframe tbody tr th:only-of-type {\n",
       "        vertical-align: middle;\n",
       "    }\n",
       "\n",
       "    .dataframe tbody tr th {\n",
       "        vertical-align: top;\n",
       "    }\n",
       "\n",
       "    .dataframe thead th {\n",
       "        text-align: right;\n",
       "    }\n",
       "</style>\n",
       "<table border=\"1\" class=\"dataframe\">\n",
       "  <thead>\n",
       "    <tr style=\"text-align: right;\">\n",
       "      <th></th>\n",
       "      <th>KS_test</th>\n",
       "      <th>P_value</th>\n",
       "    </tr>\n",
       "  </thead>\n",
       "  <tbody>\n",
       "    <tr>\n",
       "      <th>A_B</th>\n",
       "      <td>0.273793</td>\n",
       "      <td>0.100970</td>\n",
       "    </tr>\n",
       "    <tr>\n",
       "      <th>A_C</th>\n",
       "      <td>0.185222</td>\n",
       "      <td>0.570415</td>\n",
       "    </tr>\n",
       "    <tr>\n",
       "      <th>A_D</th>\n",
       "      <td>0.310345</td>\n",
       "      <td>0.180589</td>\n",
       "    </tr>\n",
       "    <tr>\n",
       "      <th>A_E</th>\n",
       "      <td>0.390805</td>\n",
       "      <td>0.666129</td>\n",
       "    </tr>\n",
       "    <tr>\n",
       "      <th>A_F</th>\n",
       "      <td>0.461207</td>\n",
       "      <td>0.099135</td>\n",
       "    </tr>\n",
       "    <tr>\n",
       "      <th>A_G</th>\n",
       "      <td>0.116192</td>\n",
       "      <td>0.938518</td>\n",
       "    </tr>\n",
       "    <tr>\n",
       "      <th>B_C</th>\n",
       "      <td>0.151429</td>\n",
       "      <td>0.671324</td>\n",
       "    </tr>\n",
       "    <tr>\n",
       "      <th>B_D</th>\n",
       "      <td>0.177778</td>\n",
       "      <td>0.727372</td>\n",
       "    </tr>\n",
       "    <tr>\n",
       "      <th>B_E</th>\n",
       "      <td>0.566667</td>\n",
       "      <td>0.224793</td>\n",
       "    </tr>\n",
       "    <tr>\n",
       "      <th>B_F</th>\n",
       "      <td>0.515000</td>\n",
       "      <td>0.033054</td>\n",
       "    </tr>\n",
       "    <tr>\n",
       "      <th>B_G</th>\n",
       "      <td>0.242609</td>\n",
       "      <td>0.096642</td>\n",
       "    </tr>\n",
       "    <tr>\n",
       "      <th>C_D</th>\n",
       "      <td>0.231746</td>\n",
       "      <td>0.476078</td>\n",
       "    </tr>\n",
       "    <tr>\n",
       "      <th>C_E</th>\n",
       "      <td>0.466667</td>\n",
       "      <td>0.459934</td>\n",
       "    </tr>\n",
       "    <tr>\n",
       "      <th>C_F</th>\n",
       "      <td>0.532143</td>\n",
       "      <td>0.032432</td>\n",
       "    </tr>\n",
       "    <tr>\n",
       "      <th>C_G</th>\n",
       "      <td>0.182609</td>\n",
       "      <td>0.455449</td>\n",
       "    </tr>\n",
       "    <tr>\n",
       "      <th>D_E</th>\n",
       "      <td>0.666667</td>\n",
       "      <td>0.144361</td>\n",
       "    </tr>\n",
       "    <tr>\n",
       "      <th>D_F</th>\n",
       "      <td>0.652778</td>\n",
       "      <td>0.009828</td>\n",
       "    </tr>\n",
       "    <tr>\n",
       "      <th>D_G</th>\n",
       "      <td>0.345411</td>\n",
       "      <td>0.069044</td>\n",
       "    </tr>\n",
       "    <tr>\n",
       "      <th>E_F</th>\n",
       "      <td>0.291667</td>\n",
       "      <td>0.975758</td>\n",
       "    </tr>\n",
       "    <tr>\n",
       "      <th>E_G</th>\n",
       "      <td>0.384058</td>\n",
       "      <td>0.677594</td>\n",
       "    </tr>\n",
       "    <tr>\n",
       "      <th>F_G</th>\n",
       "      <td>0.418478</td>\n",
       "      <td>0.135925</td>\n",
       "    </tr>\n",
       "  </tbody>\n",
       "</table>\n",
       "</div>"
      ],
      "text/plain": [
       "      KS_test   P_value\n",
       "A_B  0.273793  0.100970\n",
       "A_C  0.185222  0.570415\n",
       "A_D  0.310345  0.180589\n",
       "A_E  0.390805  0.666129\n",
       "A_F  0.461207  0.099135\n",
       "A_G  0.116192  0.938518\n",
       "B_C  0.151429  0.671324\n",
       "B_D  0.177778  0.727372\n",
       "B_E  0.566667  0.224793\n",
       "B_F  0.515000  0.033054\n",
       "B_G  0.242609  0.096642\n",
       "C_D  0.231746  0.476078\n",
       "C_E  0.466667  0.459934\n",
       "C_F  0.532143  0.032432\n",
       "C_G  0.182609  0.455449\n",
       "D_E  0.666667  0.144361\n",
       "D_F  0.652778  0.009828\n",
       "D_G  0.345411  0.069044\n",
       "E_F  0.291667  0.975758\n",
       "E_G  0.384058  0.677594\n",
       "F_G  0.418478  0.135925"
      ]
     },
     "execution_count": 79,
     "metadata": {},
     "output_type": "execute_result"
    }
   ],
   "source": [
    "### Code Starts Here\n",
    "\n",
    "\n",
    "from scipy.stats import ks_2samp\n",
    "#ks_2samp(Country_GDP['Region'],Country_GDP['GDP'],alternative='two-sided',mode='auto')\n",
    "GDP_of_EachRegion = Country_GDP.groupby(['Region'])['GDP'].agg('sum')\n",
    "\n",
    "East_Asia_Pacific = GDP_of_EachRegion[0].split()\n",
    "Europe_Central_Asia= GDP_of_EachRegion[1].split()\n",
    "Latin_America_Caribbean= GDP_of_EachRegion[2].split()\n",
    "Middle_East_North_Africa= GDP_of_EachRegion[3].split()\n",
    "North_America = GDP_of_EachRegion[4].split()\n",
    "South_Asia = GDP_of_EachRegion[5].split()\n",
    "Sub_Saharan_Africa = GDP_of_EachRegion[6].split()\n",
    "\n",
    "'''\n",
    "Name East_Asia_Pacific as A\n",
    "    Europe_Central_Asia as B\n",
    "    Latin_America_Caribbean as C\n",
    "    Middle_East_North_Africa as D\n",
    "    North_America as E\n",
    "    South_Asia as F\n",
    "    Sub_Saharan_Africa as G\n",
    "'''\n",
    "\n",
    "Whole_list = [East_Asia_Pacific,Europe_Central_Asia,Latin_America_Caribbean,Middle_East_North_Africa,North_America,South_Asia,Sub_Saharan_Africa]\n",
    "Whole_list_name = [\"A\",\"B\",\"C\",\"D\",\"E\",\"F\",\"G\"]\n",
    "\n",
    "\n",
    "\n",
    "KS_dic={}\n",
    "P_value_dic = {}\n",
    "\n",
    "\n",
    "\n",
    "for i in range(len(Whole_list)):\n",
    "    if(i==j):\n",
    "        break;\n",
    "    for j in range(i+1,len(Whole_list)):\n",
    "        \n",
    "        KS_dic[Whole_list_name[i]+ '_'+Whole_list_name[j]], P_value_dic[Whole_list_name[i]+ '_'+Whole_list_name[j]] = ks_2samp(Whole_list[i],Whole_list[j],alternative='two-sided',mode='auto')\n",
    "\n",
    "print(KS_dic)\n",
    "print(P_value_dic)\n",
    "\n",
    "        \n",
    "table = {\"KS_test\":KS_dic,\"P_value\":P_value_dic}\n",
    "\n",
    "df = pd.DataFrame(table)\n",
    "df"
   ]
  },
  {
   "cell_type": "code",
   "execution_count": 97,
   "metadata": {},
   "outputs": [
    {
     "data": {
      "text/plain": [
       "'In order to find the similar distinction, we have to compare P_value between each of region\\n    For a slightly different distribution, A_B,A_D,A_F,B_E,B_G,F_G\\n    For a identical different distribution, A_C,A_E,A_G,B_C,B_D,C_D,C_E,C_G,D_E, E_F,E_G\\n    For a different distribution, B_F, C_F, D_F, D_G\\n'"
      ]
     },
     "execution_count": 97,
     "metadata": {},
     "output_type": "execute_result"
    }
   ],
   "source": [
    "'''In order to find the similar distinction, we have to compare P_value between each of region\n",
    "    For a slightly different distribution, A_B,A_D,A_F,B_E,B_G,F_G\n",
    "    For a identical different distribution, A_C,A_E,A_G,B_C,B_D,C_D,C_E,C_G,D_E, E_F,E_G\n",
    "    For a different distribution, B_F, C_F, D_F, D_G\n",
    "'''\n"
   ]
  },
  {
   "cell_type": "markdown",
   "metadata": {},
   "source": [
    "3-d: Use `groupby()` and `agg()` to find the average and standard deviation of GDP by `income group`. [5 pts]"
   ]
  },
  {
   "cell_type": "code",
   "execution_count": 233,
   "metadata": {},
   "outputs": [
    {
     "data": {
      "text/html": [
       "<div>\n",
       "<style scoped>\n",
       "    .dataframe tbody tr th:only-of-type {\n",
       "        vertical-align: middle;\n",
       "    }\n",
       "\n",
       "    .dataframe tbody tr th {\n",
       "        vertical-align: top;\n",
       "    }\n",
       "\n",
       "    .dataframe thead th {\n",
       "        text-align: right;\n",
       "    }\n",
       "</style>\n",
       "<table border=\"1\" class=\"dataframe\">\n",
       "  <thead>\n",
       "    <tr style=\"text-align: right;\">\n",
       "      <th></th>\n",
       "      <th>GDP</th>\n",
       "    </tr>\n",
       "    <tr>\n",
       "      <th>Income Group</th>\n",
       "      <th></th>\n",
       "    </tr>\n",
       "  </thead>\n",
       "  <tbody>\n",
       "    <tr>\n",
       "      <th>High income: OECD</th>\n",
       "      <td>1.483917e+06</td>\n",
       "    </tr>\n",
       "    <tr>\n",
       "      <th>High income: nonOECD</th>\n",
       "      <td>1.043498e+05</td>\n",
       "    </tr>\n",
       "    <tr>\n",
       "      <th>Low income</th>\n",
       "      <td>1.441078e+04</td>\n",
       "    </tr>\n",
       "    <tr>\n",
       "      <th>Lower middle income</th>\n",
       "      <td>2.566635e+05</td>\n",
       "    </tr>\n",
       "    <tr>\n",
       "      <th>Upper middle income</th>\n",
       "      <td>2.318478e+05</td>\n",
       "    </tr>\n",
       "  </tbody>\n",
       "</table>\n",
       "</div>"
      ],
      "text/plain": [
       "                               GDP\n",
       "Income Group                      \n",
       "High income: OECD     1.483917e+06\n",
       "High income: nonOECD  1.043498e+05\n",
       "Low income            1.441078e+04\n",
       "Lower middle income   2.566635e+05\n",
       "Upper middle income   2.318478e+05"
      ]
     },
     "execution_count": 233,
     "metadata": {},
     "output_type": "execute_result"
    }
   ],
   "source": [
    "### Code Starts Here\n",
    "\n",
    "'''\n",
    "if you reload the dataset, please uncomment under line code to change the datatype of GDP dataframe\n",
    "'''\n",
    "#Country_GDP['GDP'] = Country_GDP['GDP'].apply(lambda x: x.replace(\",\",\"\")).astype(\"float64\")\n",
    "\n",
    "mean = Country_GDP.groupby(\"Income Group\").agg({'GDP':\"mean\"})\n",
    "\n",
    "std = Country_GDP.groupby(\"Income Group\").agg({'GDP':'std'})\n",
    "\n",
    "mean"
   ]
  },
  {
   "cell_type": "code",
   "execution_count": 234,
   "metadata": {},
   "outputs": [
    {
     "data": {
      "text/html": [
       "<div>\n",
       "<style scoped>\n",
       "    .dataframe tbody tr th:only-of-type {\n",
       "        vertical-align: middle;\n",
       "    }\n",
       "\n",
       "    .dataframe tbody tr th {\n",
       "        vertical-align: top;\n",
       "    }\n",
       "\n",
       "    .dataframe thead th {\n",
       "        text-align: right;\n",
       "    }\n",
       "</style>\n",
       "<table border=\"1\" class=\"dataframe\">\n",
       "  <thead>\n",
       "    <tr style=\"text-align: right;\">\n",
       "      <th></th>\n",
       "      <th>GDP</th>\n",
       "    </tr>\n",
       "    <tr>\n",
       "      <th>Income Group</th>\n",
       "      <th></th>\n",
       "    </tr>\n",
       "  </thead>\n",
       "  <tbody>\n",
       "    <tr>\n",
       "      <th>High income: OECD</th>\n",
       "      <td>3.070464e+06</td>\n",
       "    </tr>\n",
       "    <tr>\n",
       "      <th>High income: nonOECD</th>\n",
       "      <td>1.653344e+05</td>\n",
       "    </tr>\n",
       "    <tr>\n",
       "      <th>Low income</th>\n",
       "      <td>2.047309e+04</td>\n",
       "    </tr>\n",
       "    <tr>\n",
       "      <th>Lower middle income</th>\n",
       "      <td>1.139620e+06</td>\n",
       "    </tr>\n",
       "    <tr>\n",
       "      <th>Upper middle income</th>\n",
       "      <td>4.768720e+05</td>\n",
       "    </tr>\n",
       "  </tbody>\n",
       "</table>\n",
       "</div>"
      ],
      "text/plain": [
       "                               GDP\n",
       "Income Group                      \n",
       "High income: OECD     3.070464e+06\n",
       "High income: nonOECD  1.653344e+05\n",
       "Low income            2.047309e+04\n",
       "Lower middle income   1.139620e+06\n",
       "Upper middle income   4.768720e+05"
      ]
     },
     "execution_count": 234,
     "metadata": {},
     "output_type": "execute_result"
    }
   ],
   "source": [
    "std"
   ]
  },
  {
   "cell_type": "markdown",
   "metadata": {},
   "source": [
    "### Problem 4 - Clustering Using KMeans [20 pts]\n",
    "\n",
    "The tasks in this problem are:\n",
    "- impletemenation of KMeans\n",
    "- confirmation of pre-determined K value\n",
    "\n",
    "Here, we have a given data set `HW1_Q1_0.csv` containing coordinates of x and y. \n",
    "\n",
    "4-a. Load the data and add feature name as X and Y for the first and second columns, respectively. (2 pts)"
   ]
  },
  {
   "cell_type": "code",
   "execution_count": 94,
   "metadata": {},
   "outputs": [],
   "source": [
    "### Code starts here\n",
    "import pandas as pd\n",
    "data =pd.read_csv(\"HW1_Q1_0.csv\",header= None, usecols=[0,1])\n",
    "X = data[[0]]\n",
    "Y = data[[1]]\n"
   ]
  },
  {
   "cell_type": "markdown",
   "metadata": {},
   "source": [
    "4-b. Using `KMeans` from `sklearn.cluster`, determine the appropriate $K$ value for `HW2_Q1_0.csv` and report it. Explain why your pre-determined $K$ value is appropriate. The function `plot_inertia` is provided to you. (4 pts)"
   ]
  },
  {
   "cell_type": "code",
   "execution_count": 95,
   "metadata": {},
   "outputs": [],
   "source": [
    "from sklearn.cluster import KMeans\n",
    "kmeans = KMeans()\n",
    "\n",
    "def plot_inertia(km, X, n_cluster_range):\n",
    "    inertias = []\n",
    "    for i in n_cluster_range:\n",
    "        km.set_params(n_clusters=i)\n",
    "        km.fit(X)\n",
    "        inertias.append(km.inertia_)\n",
    "    plt.plot(n_cluster_range, inertias, marker='o')\n",
    "    plt.title('Elbow method')\n",
    "    plt.xlabel('Number of clusters')\n",
    "    plt.ylabel('Inertia')\n",
    "    plt.show()\n",
    "    \n",
    "    tabular_result = pd.DataFrame(inertias, \n",
    "                                  index = [\"n = {}\".format(i) for i in range(1, len(inertias)+1)], \n",
    "                                  columns=['Inertia'])\n",
    "    \n",
    "    return tabular_result"
   ]
  },
  {
   "cell_type": "code",
   "execution_count": 96,
   "metadata": {},
   "outputs": [
    {
     "name": "stderr",
     "output_type": "stream",
     "text": [
      "C:\\Users\\10617\\anaconda3\\lib\\site-packages\\sklearn\\cluster\\_kmeans.py:881: UserWarning: KMeans is known to have a memory leak on Windows with MKL, when there are less chunks than available threads. You can avoid it by setting the environment variable OMP_NUM_THREADS=4.\n",
      "  warnings.warn(\n"
     ]
    },
    {
     "data": {
      "image/png": "[encoded data removed]",
      "text/plain": [
       "<Figure size 432x288 with 1 Axes>"
      ]
     },
     "metadata": {
      "needs_background": "light"
     },
     "output_type": "display_data"
    }
   ],
   "source": [
    "### Code starts here\n",
    "K_list = [1,2,3,4,5,6,7,8,9,10,11,12,13]\n",
    "\n",
    "table = plot_inertia(kmeans,data,K_list)\n",
    "\n",
    "# The appropriate K value is 4, as the inertia shows the distances of samples to their closest cluster center is lower."
   ]
  },
  {
   "cell_type": "markdown",
   "metadata": {},
   "source": [
    "4-c. Make a scatter plot of y vs. x. Do you think your pre-determined $K$ value is acceptable. Explain why. If you do not think your pre-determined $K$ value is not correct, explain what a new pre-determined $K$ value must be. (4 pts) "
   ]
  },
  {
   "cell_type": "code",
   "execution_count": 292,
   "metadata": {},
   "outputs": [
    {
     "data": {
      "text/plain": [
       "<matplotlib.collections.PathCollection at 0x2bc469c5640>"
      ]
     },
     "execution_count": 292,
     "metadata": {},
     "output_type": "execute_result"
    },
    {
     "data": {
      "image/png": "[encoded data removed]",
      "text/plain": [
       "<Figure size 432x288 with 1 Axes>"
      ]
     },
     "metadata": {
      "needs_background": "light"
     },
     "output_type": "display_data"
    }
   ],
   "source": [
    "### Code starts here\n",
    "plt.scatter(Y,X)\n",
    "#from the scatter picture, K=5 is more appropriate as there are actually five clusters"
   ]
  },
  {
   "cell_type": "markdown",
   "metadata": {},
   "source": [
    "4-d. Impletement `MY_KMean` that does the KMeans clustering. When you do the implementation, you may use linear algebra built-in functions from `Numpy`. Do not use `KMeans` directly. (10 pts)"
   ]
  },
  {
   "cell_type": "code",
   "execution_count": 309,
   "metadata": {},
   "outputs": [
    {
     "data": {
      "text/plain": [
       "<matplotlib.collections.PathCollection at 0x2bc46cfd640>"
      ]
     },
     "execution_count": 309,
     "metadata": {},
     "output_type": "execute_result"
    },
    {
     "data": {
      "image/png": "[encoded data removed]",
      "text/plain": [
       "<Figure size 432x288 with 2 Axes>"
      ]
     },
     "metadata": {
      "needs_background": "light"
     },
     "output_type": "display_data"
    }
   ],
   "source": [
    "### Code starts here\n",
    "\n",
    "points = np.vstack(((np.random.randn(150, 2) * 0.75 + np.array([1, 0])),\n",
    "                  (np.random.randn(50, 2) * 0.25 + np.array([-0.5, 0.5])),\n",
    "                  (np.random.randn(50, 2) * 0.5 + np.array([-0.5, -0.5]))))\n",
    "\n",
    "def initialize_centroids(points, k):\n",
    "    \"\"\"returns k centroids from the initial points\"\"\"\n",
    "    centroids = points.copy()\n",
    "    np.random.shuffle(centroids)\n",
    "    return centroids[:k]\n",
    "\n",
    "def closest_centroid(points, centroids):\n",
    "    \"\"\"returns an array containing the index to the nearest centroid for each point\"\"\"\n",
    "    distances = np.sqrt(((points - centroids[:, np.newaxis])**2).sum(axis=2))\n",
    "    return np.argmin(distances, axis=0)\n",
    "\n",
    "c = initialize_centroids(points, 3)\n",
    "closest_centroid(points, c)\n",
    "\n",
    "c_extended = c[: , np.newaxis, :]\n",
    "c_extended\n",
    "\n",
    "\n",
    "\n",
    "\n",
    "np.sqrt(((points[:4] - c_extended)**2).sum(axis=2))\n",
    "\n",
    "np.argmin(np.sqrt(((points[:4] - c_extended)**2).sum(axis=2)), axis=0)\n",
    "\n",
    "def move_centroids(points, closest, centroids):\n",
    "    \"\"\"returns the new centroids assigned from the points closest to them\"\"\"\n",
    "    return np.array([points[closest==k].mean(axis=0) for k in range(centroids.shape[0])])\n",
    "\n",
    "move_centroids(points, closest_centroid(points, c), c)\n",
    "\n",
    "\n",
    "plt.subplot(121)\n",
    "plt.scatter(points[:, 0], points[:, 1])\n",
    "centroids = initialize_centroids(points, 3)\n",
    "plt.scatter(centroids[:, 0], centroids[:, 1], c='r', s=100)\n",
    "\n",
    "plt.subplot(122)\n",
    "plt.scatter(points[:, 0], points[:, 1])\n",
    "closest = closest_centroid(points, centroids)\n",
    "centroids = move_centroids(points, closest, centroids)\n",
    "plt.scatter(centroids[:, 0], centroids[:, 1], c='r', s=100)\n",
    "\n"
   ]
  },
  {
   "cell_type": "code",
   "execution_count": null,
   "metadata": {},
   "outputs": [],
   "source": []
  },
  {
   "cell_type": "markdown",
   "metadata": {},
   "source": [
    "### Problem 5 - Principal Component Analysis [20 pts]\n",
    "\n",
    "5-a. Run the following codes. "
   ]
  },
  {
   "cell_type": "code",
   "execution_count": 89,
   "metadata": {},
   "outputs": [],
   "source": [
    "import numpy as np\n",
    "\n",
    "np.random.seed(2342)\n",
    "mu_vec1 = np.array([0,0,0])\n",
    "cov_mat1 = np.array([[1,0,0],[0,1,0],[0,0,1]])\n",
    "class1_sample = np.random.multivariate_normal(mu_vec1, cov_mat1, 30).T\n",
    "assert class1_sample.shape == (3,30), \"The matrix has not the dimensions 3x30\"\n",
    "\n",
    "mu_vec2 = np.array([1,1,1])\n",
    "cov_mat2 = np.array([[1,0,0],[0,1,0],[0,0,1]])\n",
    "class2_sample = np.random.multivariate_normal(mu_vec2, cov_mat2, 30).T\n",
    "assert class2_sample.shape == (3,30), \"The matrix has not the dimensions 3x30\""
   ]
  },
  {
   "cell_type": "code",
   "execution_count": 90,
   "metadata": {},
   "outputs": [
    {
     "data": {
      "image/png": "[encoded data removed]",
      "text/plain": [
       "<Figure size 576x576 with 1 Axes>"
      ]
     },
     "metadata": {
      "needs_background": "light"
     },
     "output_type": "display_data"
    }
   ],
   "source": [
    "from matplotlib import pyplot as plt\n",
    "from mpl_toolkits.mplot3d import Axes3D\n",
    "from mpl_toolkits.mplot3d import proj3d\n",
    "\n",
    "fig = plt.figure(figsize=(8,8))\n",
    "ax = fig.add_subplot(111, projection='3d')\n",
    "plt.rcParams['legend.fontsize'] = 10   \n",
    "ax.plot(class1_sample[0,:], class1_sample[1,:], class1_sample[2,:], 'o', markersize=8, color='blue', alpha=0.5, label='class1')\n",
    "ax.plot(class2_sample[0,:], class2_sample[1,:], class2_sample[2,:], '^', markersize=8, alpha=0.5, color='red', label='class2')\n",
    "\n",
    "plt.title('Samples for class 1 and class 2')\n",
    "ax.legend(loc='upper right')\n",
    "\n",
    "plt.show()"
   ]
  },
  {
   "cell_type": "markdown",
   "metadata": {},
   "source": [
    "5-b. PCA Implementation. Here, the descriiption of each step and part of codes. You have to fill out the rest process. [15 pts]\n",
    "\n",
    "1. Take the dataset w/o classes. \n",
    "2. Compute the d-dimentional mean vector.\n",
    "3. Compute the scatter matrix as following. \n",
    "    \n",
    "$$\\textbf{S}=\\sum_{k=1}^N (\\textbf{x}_k-\\bar{\\textbf{x}})(\\textbf{x}_k-\\bar{\\textbf{x}})^T$$ \n",
    "where $\\bar{\\textbf{x}}$ is the mean vector. Then compute the covariance matrix using `np.cov()` function.\n",
    "    \n",
    "4. Compute eigenvectors and corresponding eigenvalues using np.linalg.eig(). \n",
    "5. Check the eigenvector and eigenvalue calculation. This code is provided as well as the visualization of eigenvectors. \n",
    "6. Sort the eigenvectors by descreasing eigenvalues. The idea is that since the eigenvectors will form the axes of new feature subspace, we want to drop for eigenvectors with the lowest eigenvalues that bear the least information about the distribution of the data. \n",
    "7. Choose $k$ eigenvectors with the largest eigenvalues. We are going to reduce a 3-D feature space to a 2-D feature subspace. To do so, we combine the two eigenvectors with the highest eigenvalues to construct our $d\\times k$-D eigenvector matrix $\\bf{W}$.\n",
    "8. Transform the samples onto the new subspace. The new subspace equation is \n",
    "\n",
    "$${\\bf y}={\\bf W}^T\\times {\\bf x}$$"
   ]
  },
  {
   "cell_type": "code",
   "execution_count": 91,
   "metadata": {},
   "outputs": [
    {
     "name": "stdout",
     "output_type": "stream",
     "text": [
      "Mean Vector:\n",
      " [[0.47343911]\n",
      " [0.52653958]\n",
      " [0.73360656]]\n",
      "Scatter Matrix:\n",
      " [[66.33488145 15.95559213  9.38196352]\n",
      " [15.95559213 73.06156823 -0.73056383]\n",
      " [ 9.38196352 -0.73056383 73.75083116]]\n",
      "Covariance Matrix:\n",
      " [[ 1.12432002  0.27043376  0.15901633]\n",
      " [ 0.27043376  1.23833166 -0.01238244]\n",
      " [ 0.15901633 -0.01238244  1.25001409]]\n",
      "Eigenvector 1: \n",
      "[[-0.7638285 ]\n",
      " [ 0.55561224]\n",
      " [ 0.32842209]]\n",
      "Eigenvalue 1 from scatter matrix: 50.69476547802251\n",
      "Eigenvalue 1 from covariance matrix: 0.8592333131868224\n",
      "Scaling factor:  58.999999999999986\n",
      "----------------------------------------\n",
      "Eigenvector 2: \n",
      "[[0.64541215]\n",
      " [0.65992713]\n",
      " [0.38462884]]\n",
      "Eigenvalue 2 from scatter matrix: 88.24042164015404\n",
      "Eigenvalue 2 from covariance matrix: 1.4956003667822713\n",
      "Scaling factor:  59.00000000000002\n",
      "----------------------------------------\n",
      "Eigenvector 3: \n",
      "[[ 0.00303016]\n",
      " [-0.50575808]\n",
      " [ 0.86267003]]\n",
      "Eigenvalue 3 from scatter matrix: 74.21209372176277\n",
      "Eigenvalue 3 from covariance matrix: 1.2578320969790302\n",
      "Scaling factor:  58.99999999999999\n",
      "----------------------------------------\n"
     ]
    },
    {
     "name": "stderr",
     "output_type": "stream",
     "text": [
      "C:\\Users\\10617\\AppData\\Local\\Temp/ipykernel_14944/1294682058.py:63: MatplotlibDeprecationWarning: \n",
      "The M attribute was deprecated in Matplotlib 3.4 and will be removed two minor releases later. Use self.axes.M instead.\n",
      "  xs, ys, zs = proj3d.proj_transform(xs3d, ys3d, zs3d, renderer.M)\n"
     ]
    },
    {
     "data": {
      "image/png": "[encoded data removed]",
      "text/plain": [
       "<Figure size 504x504 with 1 Axes>"
      ]
     },
     "metadata": {
      "needs_background": "light"
     },
     "output_type": "display_data"
    },
    {
     "name": "stdout",
     "output_type": "stream",
     "text": [
      "88.24042164015404\n",
      "74.21209372176277\n",
      "50.69476547802251\n",
      "Matrix W:\n",
      " [[ 0.64541215  0.00303016]\n",
      " [ 0.65992713 -0.50575808]\n",
      " [ 0.38462884  0.86267003]]\n"
     ]
    },
    {
     "data": {
      "image/png": "[encoded data removed]",
      "text/plain": [
       "<Figure size 432x288 with 1 Axes>"
      ]
     },
     "metadata": {
      "needs_background": "light"
     },
     "output_type": "display_data"
    }
   ],
   "source": [
    "### Code starts here\n",
    "#1.\n",
    "w_o = np.concatenate((class1_sample, class2_sample), axis=1)\n",
    "\n",
    "\n",
    "#2.\n",
    "mean_x = np.mean(w_o[0,:])\n",
    "mean_y = np.mean(w_o[1,:])\n",
    "mean_z = np.mean(w_o[2,:])\n",
    "\n",
    "mean_vector = np.array([[mean_x],[mean_y],[mean_z]])\n",
    "\n",
    "print('Mean Vector:\\n', mean_vector)\n",
    "\n",
    "#3.\n",
    "scatter_matrix = np.zeros((3,3))\n",
    "for i in range(w_o.shape[1]):\n",
    "    scatter_matrix += (w_o[:,i].reshape(3,1) - mean_vector).dot((w_o[:,i].reshape(3,1) - mean_vector).T)\n",
    "print('Scatter Matrix:\\n', scatter_matrix)\n",
    "\n",
    "\n",
    "cov_mat = np.cov([w_o[0,:],w_o[1,:],w_o[2,:]])\n",
    "print('Covariance Matrix:\\n', cov_mat)\n",
    "\n",
    "#4.\n",
    "\n",
    "# eigenvectors and eigenvalues for the from the scatter matrix\n",
    "eig_val_sc, eig_vec_sc = np.linalg.eig(scatter_matrix)\n",
    "\n",
    "# eigenvectors and eigenvalues for the from the covariance matrix\n",
    "eig_val_cov, eig_vec_cov = np.linalg.eig(cov_mat)\n",
    "\n",
    "for i in range(len(eig_val_sc)):\n",
    "    eigvec_sc = eig_vec_sc[:,i].reshape(1,3).T\n",
    "    eigvec_cov = eig_vec_cov[:,i].reshape(1,3).T\n",
    "    assert eigvec_sc.all() == eigvec_cov.all(), 'Eigenvectors are not identical'\n",
    "\n",
    "    print('Eigenvector {}: \\n{}'.format(i+1, eigvec_sc))\n",
    "    print('Eigenvalue {} from scatter matrix: {}'.format(i+1, eig_val_sc[i]))\n",
    "    print('Eigenvalue {} from covariance matrix: {}'.format(i+1, eig_val_cov[i]))\n",
    "    print('Scaling factor: ', eig_val_sc[i]/eig_val_cov[i])\n",
    "    print(40 * '-')\n",
    "    \n",
    "    \n",
    "#5.\n",
    "for i in range(len(eig_val_sc)):\n",
    "    eigv = eig_vec_sc[:,i].reshape(1,3).T\n",
    "    np.testing.assert_array_almost_equal(scatter_matrix.dot(eigv), eig_val_sc[i] * eigv,\n",
    "                                         decimal=6, err_msg='', verbose=True)\n",
    "    \n",
    "from mpl_toolkits.mplot3d import Axes3D\n",
    "from mpl_toolkits.mplot3d import proj3d\n",
    "from matplotlib.patches import FancyArrowPatch\n",
    "\n",
    "\n",
    "class Arrow3D(FancyArrowPatch):\n",
    "    def __init__(self, xs, ys, zs, *args, **kwargs):\n",
    "        FancyArrowPatch.__init__(self, (0,0), (0,0), *args, **kwargs)\n",
    "        self._verts3d = xs, ys, zs\n",
    "\n",
    "    def draw(self, renderer):\n",
    "        xs3d, ys3d, zs3d = self._verts3d\n",
    "        xs, ys, zs = proj3d.proj_transform(xs3d, ys3d, zs3d, renderer.M)\n",
    "        self.set_positions((xs[0],ys[0]),(xs[1],ys[1]))\n",
    "        FancyArrowPatch.draw(self, renderer)\n",
    "\n",
    "fig = plt.figure(figsize=(7,7))\n",
    "ax = fig.add_subplot(111, projection='3d')\n",
    "\n",
    "ax.plot(w_o[0,:], w_o[1,:], w_o[2,:], 'o', markersize=8, color='green', alpha=0.2)\n",
    "ax.plot([mean_x], [mean_y], [mean_z], 'o', markersize=10, color='red', alpha=0.5)\n",
    "for v in eig_vec_sc.T:\n",
    "    a = Arrow3D([mean_x, v[0]], [mean_y, v[1]], [mean_z, v[2]], mutation_scale=20, lw=3, arrowstyle=\"-|>\", color=\"r\")\n",
    "    ax.add_artist(a)\n",
    "ax.set_xlabel('x_values')\n",
    "ax.set_ylabel('y_values')\n",
    "ax.set_zlabel('z_values')\n",
    "\n",
    "plt.title('Eigenvectors')\n",
    "\n",
    "plt.show()\n",
    "\n",
    "#6.\n",
    "\n",
    "for ev in eig_vec_sc:\n",
    "    np.testing.assert_array_almost_equal(1.0, np.linalg.norm(ev))\n",
    "    \n",
    "# Make a list of (eigenvalue, eigenvector) tuples\n",
    "eig_pairs = [(np.abs(eig_val_sc[i]), eig_vec_sc[:,i]) for i in range(len(eig_val_sc))]\n",
    "\n",
    "# Sort the (eigenvalue, eigenvector) tuples from high to low\n",
    "eig_pairs.sort(key=lambda x: x[0], reverse=True)\n",
    "\n",
    "# Visually confirm that the list is correctly sorted by decreasing eigenvalues\n",
    "for i in eig_pairs:\n",
    "    print(i[0])\n",
    "    \n",
    "#7.\n",
    "\n",
    "matrix_w = np.hstack((eig_pairs[0][1].reshape(3,1), eig_pairs[1][1].reshape(3,1)))\n",
    "print('Matrix W:\\n', matrix_w)\n",
    "\n",
    "#8.\n",
    "\n",
    "transformed = matrix_w.T.dot(w_o)\n",
    "\n",
    "\n",
    "plt.plot(transformed[0,0:20], transformed[1,0:20], 'o', markersize=7, color='blue', alpha=0.5, label='class1')\n",
    "plt.plot(transformed[0,20:40], transformed[1,20:40], '^', markersize=7, color='red', alpha=0.5, label='class2')\n",
    "plt.xlim([-4,4])\n",
    "plt.ylim([-4,4])\n",
    "plt.xlabel('x_values')\n",
    "plt.ylabel('y_values')\n",
    "plt.legend()\n",
    "plt.title('Transformed samples with class labels')\n",
    "\n",
    "plt.show()\n"
   ]
  },
  {
   "cell_type": "markdown",
   "metadata": {},
   "source": [
    "5-c. Using `PCA` from sklearn, make a visualization comparison with the result in 3-b and evaluation your impletemented PCA. [5 pts]"
   ]
  },
  {
   "cell_type": "code",
   "execution_count": 93,
   "metadata": {},
   "outputs": [
    {
     "data": {
      "text/plain": [
       "[<matplotlib.lines.Line2D at 0x20e98433670>]"
      ]
     },
     "execution_count": 93,
     "metadata": {},
     "output_type": "execute_result"
    },
    {
     "data": {
      "image/png": "[encoded data removed]",
      "text/plain": [
       "<Figure size 432x288 with 1 Axes>"
      ]
     },
     "metadata": {
      "needs_background": "light"
     },
     "output_type": "display_data"
    }
   ],
   "source": [
    "### Code starts here\n",
    "from sklearn.decomposition import PCA\n",
    "\n",
    "pca = PCA(n_components=2)\n",
    "pca_tran = pca.fit_transform(w_o.T)\n",
    "\n",
    "\n",
    "\n",
    "plt.plot(pca_tran[0:20,0],pca_tran[0:20,1], 'o', markersize=7, color='blue', alpha=0.5, label='class1')\n",
    "plt.plot(pca_tran[20:40,0], pca_tran[20:40,1], '^', markersize=7, color='red', alpha=0.5, label='class2')\n",
    "\n"
   ]
  },
  {
   "cell_type": "code",
   "execution_count": null,
   "metadata": {},
   "outputs": [],
   "source": []
  },
  {
   "cell_type": "code",
   "execution_count": null,
   "metadata": {},
   "outputs": [],
   "source": []
  }
 ],
 "metadata": {
  "kernelspec": {
   "display_name": "Python 3 (ipykernel)",
   "language": "python",
   "name": "python3"
  },
  "language_info": {
   "codemirror_mode": {
    "name": "ipython",
    "version": 3
   },
   "file_extension": ".py",
   "mimetype": "text/x-python",
   "name": "python",
   "nbconvert_exporter": "python",
   "pygments_lexer": "ipython3",
   "version": "3.8.5"
  }
 },
 "nbformat": 4,
 "nbformat_minor": 4
}
