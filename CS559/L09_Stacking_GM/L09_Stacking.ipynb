{
 "cells": [
  {
   "cell_type": "markdown",
   "id": "36c85b4b",
   "metadata": {},
   "source": [
    "# <center> Lecture 9: Ensemble Methods II - Stacking </center>\n",
    "\n",
    "We have a classification problem of identifying the wine class label based on its chemical analysis of wine grown in the same region. \n",
    "We are going to use emsemble methods (Bagging, RandomForest, Boosting techniques, and stacking technique) to improve the model. \n",
    "You can visit here - https://archive.ics.uci.edu/ml/datasets/wine - for the details on data. "
   ]
  },
  {
   "cell_type": "markdown",
   "id": "a3046467",
   "metadata": {},
   "source": [
    "## Motivation\n",
    "Recall Ensemble Method I lecture, we learned that we can overcome the limitations the decision tree (DT) has by creating $n$-trees either by using subsamples or subtrees:\n",
    "\n",
    "- reduce variance (Random Forest) \n",
    "- reduce bias (boosting)\n",
    "\n",
    "Random Forest:\n",
    "- Pros – robust to outliers, non-linear data, runs efficiently, and prevents over-fitting unlike DT\n",
    "- Cons – high bias for categorical features, slow training process, not sufficient for linear methods with a lot of sparse features\n",
    "\n",
    "Boosting:\n",
    "- Pros – easy to handle, many technique choices, prevents over-fitting, better results\n",
    "- Cons – sensitive to outliers, often ignores variance issues, expensive computational cost\n",
    "\n",
    "Question $-$ Is it possible make a model that **learns from different learnings?**\n",
    "- In RF, we learn by aggregating learnings from different subsamples\n",
    "- In Boosting, we learn by updating previous learnings. \n",
    "- They are both tree-based. What is going to happend if we aggregate learns from different bases of models. For example, $h(h_{svm},h_{LR},h_{DT})=?$\n",
    "    - this technique is called **stacking**. \n",
    "\n",
    "## Metalearning\n",
    "**Meta learning** is\n",
    "- Also known as ***learning to learn***\n",
    "- Used to improve the results and performance of a learning algorithm by changing some aspects of the learning algorithms based on experiment results\n",
    "\n",
    "**Meta learning** is useful for\n",
    "- large training datasets\n",
    "- when high computational costs are required due to many trials/experiments during the training phase\n",
    "- when it is hard to find the best model which performs the best for a particular dataset\n",
    "\n",
    "In last 5 years, meta learning accelerated growing, thanks to deep learning and advanced machine learning researches. \n",
    "\n",
    "A meta learning algorithm is **trained with outputs** and metadata of machine learning algorithms. \n",
    "Its skills gets tested before making the final predictions and tasks we can do such as \n",
    "- Observations of different ML models’ performances\n",
    "- Learning from meta data\n",
    "- Faster learning process for a new task. \n",
    "\n",
    "With an annotated data set, \n",
    "1. Various ML models are built\n",
    "2. Use meta training process is used to improve the performance of these models\n",
    "3. Build a new model from examples learned from the previous training process\n",
    "\n",
    "<img src=\"metalearning_1.png\" width=\"500\">\n",
    "\n",
    "Four different approaches: \n",
    "- Metric Learning – learning a metric space for predictions\n",
    "- Model-Agnostic Meta Learning (MAML) – a general optimization and task-agnostic algorithm to train the parameters of a model for faster learning with small number of updates, e.g., neural network\n",
    "- Recurrent Neural Networks (RNNs) – a type of artificial neural networks frequently applied for time series, natural language process, etc. \n",
    "- **Stacking/stacked generalization** – a subfield of ensemble learning used in meta learning models. \n",
    "\n",
    "\n"
   ]
  },
  {
   "cell_type": "markdown",
   "id": "3fef07ed",
   "metadata": {},
   "source": [
    "## Stacking\n",
    "\n",
    "- Stacking is used \n",
    "    - To learn the best combination of predictions from multiple ML algorithms\n",
    "    - To optimize the prediction than using a single ML algorithm\n",
    "- With a given data set, \n",
    "    - We can use many different ML algorithms that are suitable for the data set. \n",
    "    - Considering advantages and disadvantages of trained models, how do we choose the best one?\n",
    "- Why not bagging? \n",
    "    - Bagging uses the samples of the training dataset. \n",
    "    - Different models are used to fit on the same training dataset. \n",
    "- Why not boosting?\n",
    "    - Boosting uses a sequence of models that corrects the prediction from the previous model by updating the learner (a weak learner to a strong learner)\n",
    "- Use a single model to learn the best combination of predictions from the contributed models  \n",
    "\n",
    "### Models\n",
    "<img src=\"stacking_01.png\" width=\"500\">\n",
    "\n",
    "<u>Level-0 Models</u>\n",
    "- individual ML algorithms are used to fit on training data\n",
    "- Also called *Base-Models*\n",
    "- Base models are complex and diverse – it is good to use wide ranges of models that make different assumptions and conditions to solve the problem. \n",
    "    - For regression – linear regression, decision trees, neural networks, random forest, etc. \n",
    "    - For classification – logistic regression, SVM, KNN, …. \n",
    "\n",
    "<u>Level-1 Model</u>\n",
    "- A model that learns the combination from the predictions made by models on out-of-sample data (can considered as a test set). \n",
    "- Also called *Meta-Model*\n",
    "- A meta model – keep it simple to provide a smooth interpretation of the predictions made from base models. Having a linear model is highly recommended. \n",
    "    - For regression – linear regression\n",
    "    - For classification – logistic regression or SVM\n",
    "\n",
    "#### Stacking base models to a meta model\n",
    "The meta model $H=\\{h_1,\\dots,h_N\\}$ where $h_i$ is an individual base models:\n",
    "$$ \\sum_{i=1}^Nw_ih_i(x_i,y_i)$$\n",
    "To make the final prediction better, we can\n",
    "- Include inputs to the base models to have the best combined predictions.\n",
    "<img src=\"stacking_02.png\" width=\"400\"/>\n",
    "- Use k-fold CV for base models and aggregate them.  \n",
    "<img src=\"stacking_03.png\" width=\"400\"/> \n",
    "- Increase the levels.\n",
    "<img src=\"stacking_04.png\" width=\"600\"/> \n",
    "\n",
    "### Algorithm\n",
    "1. Train Data $D=\\{x_i,y_i\\}_{i=1}^m$\n",
    "1. Step 1: build $N$ base models $h_0=\\{h_1,h_2,\\dots,h_N\\}$\n",
    "1. for $i=1$ to N do\n",
    "    1. build $h_i$ based on $D$\n",
    "1. end\n",
    "1. Step 2: construct new data set of predictions\n",
    "1. for $j=1$ to $m$ do\n",
    "    1. $D_h=\\{x_j',y_j\\}$ where $x_i'=\\{h_1(x_j),\\dots,h_N(x_j)\\}$\n",
    "1. end\n",
    "1. Step 3: build a meta model\n",
    "1. build $H$ based on $D_h$\n",
    "1. return $H$"
   ]
  },
  {
   "cell_type": "code",
   "execution_count": 7,
   "id": "343a12e2",
   "metadata": {},
   "outputs": [],
   "source": [
    "from numpy import mean\n",
    "from numpy import std\n",
    "import pandas as pd\n",
    "from sklearn.model_selection import train_test_split\n",
    "from sklearn.datasets import make_classification\n",
    "from sklearn.model_selection import cross_val_score\n",
    "from sklearn.model_selection import RepeatedStratifiedKFold\n",
    "from sklearn.linear_model import LogisticRegression\n",
    "from sklearn.neighbors import KNeighborsClassifier\n",
    "from sklearn.tree import DecisionTreeClassifier\n",
    "from sklearn.svm import SVC\n",
    "from sklearn.ensemble import StackingClassifier\n",
    "from matplotlib import pyplot"
   ]
  },
  {
   "cell_type": "markdown",
   "id": "a0cf8c4f",
   "metadata": {},
   "source": [
    "## 1. Train data\n",
    "We create a binary classification data set (1000 by 20) using `make_classification`. \n"
   ]
  },
  {
   "cell_type": "code",
   "execution_count": 8,
   "id": "ad7dfa68",
   "metadata": {},
   "outputs": [],
   "source": [
    "df_wine = pd.read_csv('https://archive.ics.uci.edu/ml/machine-learning-databases/wine/wine.data',header=None)\n",
    "df_wine.columns = ['Class label','Alcohol','Malic acid','Ash','Alcalinity of ash','Magnesium','Total phenols',\n",
    "                    'Flavanoids','Nonflavanoid phenols','Proanthocyanins','Color intensity','Hue','OD280/OD315 of diluted wines','Proline']"
   ]
  },
  {
   "cell_type": "code",
   "execution_count": 9,
   "id": "f87478b2",
   "metadata": {},
   "outputs": [],
   "source": [
    "y=df_wine['Class label']\n",
    "X=df_wine.drop('Class label',axis=1)\n",
    "X_train, X_test, y_train, y_test = train_test_split(X, y, test_size=0.2,random_state=1,stratify=y)"
   ]
  },
  {
   "cell_type": "markdown",
   "id": "ac165e72",
   "metadata": {},
   "source": [
    "## 2. Base Models\n"
   ]
  },
  {
   "cell_type": "code",
   "execution_count": 10,
   "id": "0c675d4d",
   "metadata": {},
   "outputs": [],
   "source": [
    "def get_models():\n",
    "    models = dict()\n",
    "    models['lr'] = LogisticRegression()\n",
    "    models['knn'] = KNeighborsClassifier()\n",
    "    models['DT'] = DecisionTreeClassifier()\n",
    "    models['svm'] = SVC()\n",
    "    return models"
   ]
  },
  {
   "cell_type": "code",
   "execution_count": 11,
   "id": "b5671ecc",
   "metadata": {},
   "outputs": [],
   "source": [
    "def evaluate_model(model, X, y):\n",
    "    cv = RepeatedStratifiedKFold(n_splits=10, n_repeats=3, random_state=1)\n",
    "    scores = cross_val_score(model, X, y, scoring='accuracy', cv=cv, n_jobs=-1, error_score='raise')\n",
    "    return scores"
   ]
  },
  {
   "cell_type": "code",
   "execution_count": 12,
   "id": "835bf357",
   "metadata": {},
   "outputs": [],
   "source": [
    "models = get_models()"
   ]
  },
  {
   "cell_type": "code",
   "execution_count": 13,
   "id": "21b390e5",
   "metadata": {},
   "outputs": [
    {
     "name": "stdout",
     "output_type": "stream",
     "text": [
      ">lr 0.946 (0.065)\n",
      ">knn 0.666 (0.119)\n",
      ">DT 0.896 (0.086)\n",
      ">svm 0.717 (0.117)\n"
     ]
    }
   ],
   "source": [
    "results, names = list(), list()\n",
    "for name, model in models.items():\n",
    "    scores = evaluate_model(model, X_train, y_train)\n",
    "    results.append(scores)\n",
    "    names.append(name)\n",
    "    print('>%s %.3f (%.3f)' % (name, mean(scores), std(scores)))"
   ]
  },
  {
   "cell_type": "markdown",
   "id": "3306a5aa",
   "metadata": {},
   "source": [
    "The train model with logistic regression is significantly better than other classifiers indicating that the data is a linear-data and therefore, it is not necessary to do staking. However, let's observe how stacking can improve the classification if we do not include the logistic regression. Any linear models can be used for level 1 mdoel. \n",
    "\n",
    "In level 1 model, I used logistic regression."
   ]
  },
  {
   "cell_type": "code",
   "execution_count": 14,
   "id": "352b3ad3",
   "metadata": {},
   "outputs": [],
   "source": [
    "def get_stacking():\n",
    "    # define the base models\n",
    "    level0 = list()\n",
    "    #level0.append(('lr', LogisticRegression()))\n",
    "    level0.append(('knn', KNeighborsClassifier()))\n",
    "    level0.append(('DT', DecisionTreeClassifier()))\n",
    "    level0.append(('svm', SVC()))\n",
    "    # define meta learner model\n",
    "    level1 = LogisticRegression()\n",
    "    # define the stacking ensemble\n",
    "    model = StackingClassifier(estimators=level0, final_estimator=level1, cv=5)\n",
    "    return model"
   ]
  },
  {
   "cell_type": "code",
   "execution_count": 23,
   "id": "d360ba2c",
   "metadata": {},
   "outputs": [],
   "source": [
    "def get_models():\n",
    "    models = dict()\n",
    "    models['lr'] = LogisticRegression()\n",
    "    models['knn'] = KNeighborsClassifier()\n",
    "    models['DT'] = DecisionTreeClassifier()\n",
    "    models['svm'] = SVC()\n",
    "    models['stacking'] = get_stacking()\n",
    "    return models"
   ]
  },
  {
   "cell_type": "code",
   "execution_count": 24,
   "id": "f25fa50d",
   "metadata": {},
   "outputs": [],
   "source": [
    "models = get_models()"
   ]
  },
  {
   "cell_type": "code",
   "execution_count": 25,
   "id": "28469186",
   "metadata": {},
   "outputs": [
    {
     "name": "stdout",
     "output_type": "stream",
     "text": [
      ">lr 0.950 (0.055)\n",
      ">knn 0.710 (0.094)\n",
      ">DT 0.891 (0.089)\n",
      ">svm 0.687 (0.096)\n",
      ">stacking 0.904 (0.073)\n"
     ]
    }
   ],
   "source": [
    "results, names = list(), list()\n",
    "for name, model in models.items():\n",
    "    scores = evaluate_model(model, X, y)\n",
    "    results.append(scores)\n",
    "    names.append(name)\n",
    "    print('>%s %.3f (%.3f)' % (name, mean(scores), std(scores)))"
   ]
  },
  {
   "cell_type": "markdown",
   "id": "36356e53",
   "metadata": {},
   "source": [
    "Note that the accuracy with stacking is better than KNN, DT, and SVM but still logistic regression resulted better. "
   ]
  },
  {
   "cell_type": "code",
   "execution_count": 26,
   "id": "7d658dd7",
   "metadata": {},
   "outputs": [
    {
     "data": {
      "image/png": "[encoded data removed]",
      "text/plain": [
       "<Figure size 432x288 with 1 Axes>"
      ]
     },
     "metadata": {},
     "output_type": "display_data"
    }
   ],
   "source": [
    "pyplot.figure(facecolor='white')\n",
    "pyplot.boxplot(results, labels=names, showmeans=True)\n",
    "\n",
    "pyplot.ylabel('Score')\n",
    "pyplot.title('Stacking Classifier and baset models')\n",
    "pyplot.show()"
   ]
  },
  {
   "cell_type": "markdown",
   "id": "ab45debb",
   "metadata": {},
   "source": [
    "## 2. Prediction"
   ]
  },
  {
   "cell_type": "code",
   "execution_count": 19,
   "id": "d6022f0f",
   "metadata": {},
   "outputs": [
    {
     "data": {
      "text/plain": [
       "StackingClassifier(cv=5,\n",
       "                   estimators=[('knn', KNeighborsClassifier()),\n",
       "                               ('DT', DecisionTreeClassifier()),\n",
       "                               ('svm', SVC())],\n",
       "                   final_estimator=LogisticRegression())"
      ]
     },
     "execution_count": 19,
     "metadata": {},
     "output_type": "execute_result"
    }
   ],
   "source": [
    "model = get_stacking()\n",
    "model.fit(X_test,y_test)"
   ]
  },
  {
   "cell_type": "code",
   "execution_count": 20,
   "id": "e00f6019",
   "metadata": {},
   "outputs": [
    {
     "name": "stdout",
     "output_type": "stream",
     "text": [
      "Accuracy 0.9444444444444444\n"
     ]
    }
   ],
   "source": [
    "from sklearn.metrics import accuracy_score\n",
    "y_pred = model.predict(X_test)\n",
    "print('Accuracy',accuracy_score(y_test,y_pred))"
   ]
  },
  {
   "cell_type": "code",
   "execution_count": 21,
   "id": "69186481",
   "metadata": {},
   "outputs": [
    {
     "name": "stdout",
     "output_type": "stream",
     "text": [
      "Accuracy 0.971830985915493\n",
      "Accuracy 0.8888888888888888\n"
     ]
    },
    {
     "name": "stderr",
     "output_type": "stream",
     "text": [
      "/Users/insukjang/opt/anaconda3/lib/python3.8/site-packages/sklearn/linear_model/_logistic.py:762: ConvergenceWarning: lbfgs failed to converge (status=1):\n",
      "STOP: TOTAL NO. of ITERATIONS REACHED LIMIT.\n",
      "\n",
      "Increase the number of iterations (max_iter) or scale the data as shown in:\n",
      "    https://scikit-learn.org/stable/modules/preprocessing.html\n",
      "Please also refer to the documentation for alternative solver options:\n",
      "    https://scikit-learn.org/stable/modules/linear_model.html#logistic-regression\n",
      "  n_iter_i = _check_optimize_result(\n"
     ]
    }
   ],
   "source": [
    "LR = LogisticRegression()\n",
    "LR.fit(X_train,y_train)\n",
    "print('Accuracy',accuracy_score(y_train,LR.predict(X_train)))\n",
    "print('Accuracy',accuracy_score(y_test,LR.predict(X_test)))"
   ]
  },
  {
   "cell_type": "code",
   "execution_count": 22,
   "id": "4f090e21",
   "metadata": {},
   "outputs": [
    {
     "name": "stdout",
     "output_type": "stream",
     "text": [
      "Accuracy 0.7323943661971831\n",
      "Accuracy 0.6111111111111112\n"
     ]
    }
   ],
   "source": [
    "svc = SVC()\n",
    "svc.fit(X_train,y_train)\n",
    "print('Accuracy',accuracy_score(y_train,svc.predict(X_train)))\n",
    "print('Accuracy',accuracy_score(y_test,svc.predict(X_test)))"
   ]
  },
  {
   "cell_type": "markdown",
   "id": "b908cc93",
   "metadata": {},
   "source": [
    "## Summary\n",
    "\n",
    "Advantage? \n",
    "- Higher model prediction accuracy\n",
    "- A faster, cheaper training process\n",
    "- Builds many generalized models\n",
    "\n",
    "Disadvantage?\n",
    "- Sometimes full understandings of models are not possible\n",
    "- There are many ML algorithms to use…\n",
    "- Overfitting "
   ]
  }
 ],
 "metadata": {
  "kernelspec": {
   "display_name": "Python 3 (ipykernel)",
   "language": "python",
   "name": "python3"
  },
  "language_info": {
   "codemirror_mode": {
    "name": "ipython",
    "version": 3
   },
   "file_extension": ".py",
   "mimetype": "text/x-python",
   "name": "python",
   "nbconvert_exporter": "python",
   "pygments_lexer": "ipython3",
   "version": "3.9.7"
  }
 },
 "nbformat": 4,
 "nbformat_minor": 5
}
