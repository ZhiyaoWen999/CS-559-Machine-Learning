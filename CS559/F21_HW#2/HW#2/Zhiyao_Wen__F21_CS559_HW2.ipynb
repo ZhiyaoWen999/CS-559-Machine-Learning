{
 "cells": [
  {
   "cell_type": "markdown",
   "id": "4d260324",
   "metadata": {},
   "source": [
    "# <center> CS559: Homework #2 </center>\n",
    "###  <center> Due:10/8/2021 Friday 11:59 PM</center>\n",
    "\n",
    "- Change the file name as YourName_F21_CS559_HW2\n",
    "- Submit the assignment in `ipynb` and `html` formats. \n",
    "    - You can export the notebook in HTML. \n",
    "    - Do not compress your files. Please submit files individually. \n",
    "- All work must be your own and must not be shared with other classmates. \n",
    "    - Collaboration with classmates or getting help by any people is not acceptable. \n",
    "    - For impletementation problems, do not copy algorithms from internet. "
   ]
  },
  {
   "cell_type": "markdown",
   "id": "058b2681",
   "metadata": {},
   "source": [
    "### Problem 1 - Linear Regression [35 pts]\n",
    "\n",
    "1-a. Consider a data set in which each data point $t_n$ is associated with a weighting factor $r_n>0$, so that the sum of squares error function becomes \n",
    "\n",
    "$${\\large E_D(\\vec{w})=\\frac{1}{2}\\sum_{n=1}^Nr_n\\big(t_n-\\vec{w}^T\\vec{x}_n\\big)^2}$$\n",
    "\n",
    "Find an expression for the solution $w^*$ that minimizes this error function. [5 pts]"
   ]
  },
  {
   "cell_type": "code",
   "execution_count": null,
   "id": "979e9e4d",
   "metadata": {},
   "outputs": [],
   "source": [
    "In pdf form"
   ]
  },
  {
   "cell_type": "markdown",
   "id": "2dc50580",
   "metadata": {},
   "source": [
    "1-b. Implement a function called, `my_error(data,r_n)`, that estimates the error using the error function, $E_D(\\vec{w})$, from 1-a. The task to implement a function to estimates the optimized $vec{w}$ and demonstrates the behavior of error at different weighting factor, $r_n$, values. The function return a list of $\\vec{w}$, $r_n$, and error. Do not use any other modules except `numpy`. [10 pts]"
   ]
  },
  {
   "cell_type": "code",
   "execution_count": 143,
   "id": "66d3786a",
   "metadata": {},
   "outputs": [],
   "source": [
    "### my_LR starts here\n",
    "import numpy as np\n",
    "from numpy.linalg import inv\n",
    "\n",
    "def my_error(data,r_n):\n",
    "    X = data\n",
    "    Y= data.iloc[:,-1]\n",
    "    rn = []\n",
    "    w_list=[]\n",
    "    error_list=[]\n",
    "    for r in r_n:\n",
    "        w = np.dot(inv(np.dot(np.dot(r,X),X.T)),np.dot(X,np.dot(r,Y)))\n",
    "        error = 1/2*np.sum(np.dot(r,pow((Y-np.dot(w.T,data)),2)))\n",
    "        w_list.append(w)\n",
    "        rn.append(r)\n",
    "        error_list.append(error)\n",
    "                        \n",
    "        \n",
    "    \n",
    "    return w, error, rn"
   ]
  },
  {
   "cell_type": "markdown",
   "id": "124ddffa",
   "metadata": {},
   "source": [
    "1-c. Load the dataset, make a model using Linear Regression from sklearn.linear_model to predict the target `y` from a given dataset `HW2_LR.csv`. Students must do EDA and pre-processing the dataset before training the model. All pre-processing and EDA work must be explained and the weights and mean squared error value must be reported. Treat the whole dataset as a train set. [15 pts]"
   ]
  },
  {
   "cell_type": "code",
   "execution_count": 68,
   "id": "b8aa9dab",
   "metadata": {},
   "outputs": [],
   "source": [
    "from sklearn.linear_model import LinearRegression\n",
    "from sklearn.metrics import mean_squared_error\n",
    "import matplotlib.pyplot as plt\n",
    "\n",
    "import pandas as pd"
   ]
  },
  {
   "cell_type": "code",
   "execution_count": 69,
   "id": "a000f626",
   "metadata": {},
   "outputs": [
    {
     "data": {
      "text/html": [
       "<div>\n",
       "<style scoped>\n",
       "    .dataframe tbody tr th:only-of-type {\n",
       "        vertical-align: middle;\n",
       "    }\n",
       "\n",
       "    .dataframe tbody tr th {\n",
       "        vertical-align: top;\n",
       "    }\n",
       "\n",
       "    .dataframe thead th {\n",
       "        text-align: right;\n",
       "    }\n",
       "</style>\n",
       "<table border=\"1\" class=\"dataframe\">\n",
       "  <thead>\n",
       "    <tr style=\"text-align: right;\">\n",
       "      <th></th>\n",
       "      <th>a</th>\n",
       "      <th>b</th>\n",
       "      <th>c</th>\n",
       "      <th>d</th>\n",
       "      <th>k</th>\n",
       "      <th>y</th>\n",
       "    </tr>\n",
       "  </thead>\n",
       "  <tbody>\n",
       "    <tr>\n",
       "      <th>0</th>\n",
       "      <td>70.40</td>\n",
       "      <td>611.72</td>\n",
       "      <td>2679.33</td>\n",
       "      <td>-0.116531</td>\n",
       "      <td>0.408765</td>\n",
       "      <td>-9.804385e+05</td>\n",
       "    </tr>\n",
       "    <tr>\n",
       "      <th>1</th>\n",
       "      <td>297.79</td>\n",
       "      <td>172.91</td>\n",
       "      <td>8986.70</td>\n",
       "      <td>-0.668901</td>\n",
       "      <td>0.906781</td>\n",
       "      <td>1.343908e+06</td>\n",
       "    </tr>\n",
       "    <tr>\n",
       "      <th>2</th>\n",
       "      <td>213.93</td>\n",
       "      <td>423.22</td>\n",
       "      <td>1505.50</td>\n",
       "      <td>-0.573668</td>\n",
       "      <td>0.862750</td>\n",
       "      <td>-6.170783e+05</td>\n",
       "    </tr>\n",
       "    <tr>\n",
       "      <th>3</th>\n",
       "      <td>39.25</td>\n",
       "      <td>353.36</td>\n",
       "      <td>8332.22</td>\n",
       "      <td>-0.144505</td>\n",
       "      <td>0.730970</td>\n",
       "      <td>2.070210e+06</td>\n",
       "    </tr>\n",
       "    <tr>\n",
       "      <th>4</th>\n",
       "      <td>5.95</td>\n",
       "      <td>-174.07</td>\n",
       "      <td>3210.43</td>\n",
       "      <td>-0.157336</td>\n",
       "      <td>-0.175142</td>\n",
       "      <td>-7.709453e+05</td>\n",
       "    </tr>\n",
       "    <tr>\n",
       "      <th>...</th>\n",
       "      <td>...</td>\n",
       "      <td>...</td>\n",
       "      <td>...</td>\n",
       "      <td>...</td>\n",
       "      <td>...</td>\n",
       "      <td>...</td>\n",
       "    </tr>\n",
       "    <tr>\n",
       "      <th>9995</th>\n",
       "      <td>92.54</td>\n",
       "      <td>-449.98</td>\n",
       "      <td>9065.32</td>\n",
       "      <td>-0.660264</td>\n",
       "      <td>0.183420</td>\n",
       "      <td>-5.496800e+06</td>\n",
       "    </tr>\n",
       "    <tr>\n",
       "      <th>9996</th>\n",
       "      <td>133.07</td>\n",
       "      <td>-136.77</td>\n",
       "      <td>2131.28</td>\n",
       "      <td>-0.889858</td>\n",
       "      <td>0.528366</td>\n",
       "      <td>-4.228519e+05</td>\n",
       "    </tr>\n",
       "    <tr>\n",
       "      <th>9997</th>\n",
       "      <td>64.41</td>\n",
       "      <td>532.15</td>\n",
       "      <td>7644.74</td>\n",
       "      <td>-1.902000</td>\n",
       "      <td>1.876023</td>\n",
       "      <td>2.085432e+06</td>\n",
       "    </tr>\n",
       "    <tr>\n",
       "      <th>9998</th>\n",
       "      <td>85.26</td>\n",
       "      <td>537.28</td>\n",
       "      <td>5741.49</td>\n",
       "      <td>-0.461147</td>\n",
       "      <td>1.355170</td>\n",
       "      <td>1.063961e+06</td>\n",
       "    </tr>\n",
       "    <tr>\n",
       "      <th>9999</th>\n",
       "      <td>165.48</td>\n",
       "      <td>-289.47</td>\n",
       "      <td>4275.10</td>\n",
       "      <td>-0.183673</td>\n",
       "      <td>2.605250</td>\n",
       "      <td>-1.824170e+06</td>\n",
       "    </tr>\n",
       "  </tbody>\n",
       "</table>\n",
       "<p>10000 rows × 6 columns</p>\n",
       "</div>"
      ],
      "text/plain": [
       "           a       b        c         d         k             y\n",
       "0      70.40  611.72  2679.33 -0.116531  0.408765 -9.804385e+05\n",
       "1     297.79  172.91  8986.70 -0.668901  0.906781  1.343908e+06\n",
       "2     213.93  423.22  1505.50 -0.573668  0.862750 -6.170783e+05\n",
       "3      39.25  353.36  8332.22 -0.144505  0.730970  2.070210e+06\n",
       "4       5.95 -174.07  3210.43 -0.157336 -0.175142 -7.709453e+05\n",
       "...      ...     ...      ...       ...       ...           ...\n",
       "9995   92.54 -449.98  9065.32 -0.660264  0.183420 -5.496800e+06\n",
       "9996  133.07 -136.77  2131.28 -0.889858  0.528366 -4.228519e+05\n",
       "9997   64.41  532.15  7644.74 -1.902000  1.876023  2.085432e+06\n",
       "9998   85.26  537.28  5741.49 -0.461147  1.355170  1.063961e+06\n",
       "9999  165.48 -289.47  4275.10 -0.183673  2.605250 -1.824170e+06\n",
       "\n",
       "[10000 rows x 6 columns]"
      ]
     },
     "execution_count": 69,
     "metadata": {},
     "output_type": "execute_result"
    }
   ],
   "source": [
    "data = pd.read_csv('./HW2_LR.csv')\n",
    "data"
   ]
  },
  {
   "cell_type": "code",
   "execution_count": null,
   "id": "3af3ebc3",
   "metadata": {},
   "outputs": [],
   "source": []
  },
  {
   "cell_type": "code",
   "execution_count": 70,
   "id": "5fd21b0c",
   "metadata": {},
   "outputs": [
    {
     "name": "stdout",
     "output_type": "stream",
     "text": [
      "<class 'pandas.core.frame.DataFrame'>\n",
      "RangeIndex: 10000 entries, 0 to 9999\n",
      "Data columns (total 6 columns):\n",
      " #   Column  Non-Null Count  Dtype  \n",
      "---  ------  --------------  -----  \n",
      " 0   a       10000 non-null  float64\n",
      " 1   b       10000 non-null  float64\n",
      " 2   c       10000 non-null  float64\n",
      " 3   d       10000 non-null  float64\n",
      " 4   k       10000 non-null  float64\n",
      " 5   y       10000 non-null  float64\n",
      "dtypes: float64(6)\n",
      "memory usage: 468.9 KB\n"
     ]
    },
    {
     "data": {
      "text/plain": [
       "'\\nFrom data.info(), we know that all the data are float64 and there are no null value from this data set.\\nTherefore, we do not need to convert data type and add value.\\n'"
      ]
     },
     "execution_count": 70,
     "metadata": {},
     "output_type": "execute_result"
    }
   ],
   "source": [
    "### EDA stars here\n",
    "data.info()\n",
    "\n",
    "'''\n",
    "From data.info(), we know that all the data are float64 and there are no null value from this data set.\n",
    "Therefore, we do not need to convert data type and add value.\n",
    "'''"
   ]
  },
  {
   "cell_type": "code",
   "execution_count": 71,
   "id": "09d317da",
   "metadata": {},
   "outputs": [
    {
     "name": "stdout",
     "output_type": "stream",
     "text": [
      "0\n"
     ]
    }
   ],
   "source": [
    "duplicate = data.duplicated()\n",
    "print(duplicate.sum())\n",
    "# There are also no duplicated values"
   ]
  },
  {
   "cell_type": "code",
   "execution_count": null,
   "id": "601f6efe",
   "metadata": {},
   "outputs": [],
   "source": []
  },
  {
   "cell_type": "code",
   "execution_count": 72,
   "id": "9997db28",
   "metadata": {},
   "outputs": [
    {
     "data": {
      "text/plain": [
       "<AxesSubplot:>"
      ]
     },
     "execution_count": 72,
     "metadata": {},
     "output_type": "execute_result"
    },
    {
     "data": {
      "image/png": "[encoded data removed]",
      "text/plain": [
       "<Figure size 640x640 with 6 Axes>"
      ]
     },
     "metadata": {
      "needs_background": "light"
     },
     "output_type": "display_data"
    }
   ],
   "source": [
    "\n",
    "plt.figure(figsize=(8,8),dpi=80)\n",
    "plt.subplot(231)\n",
    "data.boxplot(column=[\"a\"])\n",
    "plt.subplot(232)\n",
    "data.boxplot(column=[\"b\"])\n",
    "plt.subplot(233)\n",
    "data.boxplot(column=[\"c\"])\n",
    "plt.subplot(234)\n",
    "data.boxplot(column=[\"d\"])\n",
    "plt.subplot(235)\n",
    "data.boxplot(column=[\"k\"])\n",
    "plt.subplot(236)\n",
    "data.boxplot(column=[\"y\"])"
   ]
  },
  {
   "cell_type": "code",
   "execution_count": 73,
   "id": "181efb36",
   "metadata": {},
   "outputs": [],
   "source": [
    "def remove_outlier(col):  # to remove outlier base on IQR method\n",
    "    sorted(col)\n",
    "    Q1,Q3 = col.quantile([0.25,0.75])\n",
    "    IQR = Q3-Q1\n",
    "    lower_range = Q1-(1.5 * IQR)\n",
    "    upper_range = Q3+(1.5 * IQR)\n",
    "    return lower_range, upper_range"
   ]
  },
  {
   "cell_type": "code",
   "execution_count": 74,
   "id": "323d521d",
   "metadata": {},
   "outputs": [
    {
     "data": {
      "text/plain": [
       "<AxesSubplot:>"
      ]
     },
     "execution_count": 74,
     "metadata": {},
     "output_type": "execute_result"
    },
    {
     "data": {
      "image/png": "[encoded data removed]",
      "text/plain": [
       "<Figure size 640x640 with 3 Axes>"
      ]
     },
     "metadata": {
      "needs_background": "light"
     },
     "output_type": "display_data"
    }
   ],
   "source": [
    "low,upper = remove_outlier(data[\"d\"])\n",
    "data[\"d\"]=np.where(data[\"d\"]>upper,upper,data[\"d\"])\n",
    "data[\"d\"]=np.where(data[\"d\"]<low,low,data[\"d\"])\n",
    "\n",
    "low,upper = remove_outlier(data[\"k\"])\n",
    "data[\"k\"]=np.where(data[\"k\"]>upper,upper,data[\"k\"])\n",
    "data[\"k\"]=np.where(data[\"k\"]<low,low,data[\"k\"])\n",
    "\n",
    "low,upper = remove_outlier(data[\"y\"])\n",
    "data[\"y\"]=np.where(data[\"y\"]>upper,upper,data[\"y\"])\n",
    "data[\"y\"]=np.where(data[\"y\"]<low,low,data[\"y\"])\n",
    "#after remove outlier\n",
    "plt.figure(figsize=(8,8),dpi=80)\n",
    "plt.subplot(131)\n",
    "data.boxplot(column=[\"d\"])\n",
    "plt.subplot(132)\n",
    "data.boxplot(column=[\"k\"])\n",
    "plt.subplot(133)\n",
    "data.boxplot(column=[\"y\"])"
   ]
  },
  {
   "cell_type": "code",
   "execution_count": 131,
   "id": "0d2966cd",
   "metadata": {},
   "outputs": [],
   "source": [
    "### Pre-processing starts here\n",
    "# use standardScaler\n",
    "from sklearn.preprocessing import StandardScaler\n",
    "std_scale = StandardScaler()\n",
    "\n",
    "\n",
    "\n",
    "data[\"a\"] = std_scale.fit_transform(data[[\"a\"]])\n",
    "data[\"b\"] = std_scale.fit_transform(data[[\"b\"]])\n",
    "data[\"c\"] = std_scale.fit_transform(data[[\"c\"]])\n",
    "data[\"d\"] = std_scale.fit_transform(data[[\"d\"]])\n",
    "data[\"k\"] = std_scale.fit_transform(data[[\"k\"]])\n",
    "data[\"y\"] = std_scale.fit_transform(data[[\"y\"]])"
   ]
  },
  {
   "cell_type": "code",
   "execution_count": 132,
   "id": "c35c8438",
   "metadata": {},
   "outputs": [
    {
     "data": {
      "text/html": [
       "<div>\n",
       "<style scoped>\n",
       "    .dataframe tbody tr th:only-of-type {\n",
       "        vertical-align: middle;\n",
       "    }\n",
       "\n",
       "    .dataframe tbody tr th {\n",
       "        vertical-align: top;\n",
       "    }\n",
       "\n",
       "    .dataframe thead th {\n",
       "        text-align: right;\n",
       "    }\n",
       "</style>\n",
       "<table border=\"1\" class=\"dataframe\">\n",
       "  <thead>\n",
       "    <tr style=\"text-align: right;\">\n",
       "      <th></th>\n",
       "      <th>a</th>\n",
       "      <th>b</th>\n",
       "      <th>c</th>\n",
       "      <th>d</th>\n",
       "      <th>k</th>\n",
       "      <th>y</th>\n",
       "    </tr>\n",
       "  </thead>\n",
       "  <tbody>\n",
       "    <tr>\n",
       "      <th>0</th>\n",
       "      <td>-0.921915</td>\n",
       "      <td>1.481904</td>\n",
       "      <td>-1.023556</td>\n",
       "      <td>1.094700</td>\n",
       "      <td>-0.610488</td>\n",
       "      <td>-0.346265</td>\n",
       "    </tr>\n",
       "    <tr>\n",
       "      <th>1</th>\n",
       "      <td>1.697011</td>\n",
       "      <td>0.215881</td>\n",
       "      <td>1.354235</td>\n",
       "      <td>0.174346</td>\n",
       "      <td>0.200196</td>\n",
       "      <td>0.943370</td>\n",
       "    </tr>\n",
       "    <tr>\n",
       "      <th>2</th>\n",
       "      <td>0.731167</td>\n",
       "      <td>0.938058</td>\n",
       "      <td>-1.466073</td>\n",
       "      <td>0.333023</td>\n",
       "      <td>0.128521</td>\n",
       "      <td>-0.144659</td>\n",
       "    </tr>\n",
       "    <tr>\n",
       "      <th>3</th>\n",
       "      <td>-1.280680</td>\n",
       "      <td>0.736503</td>\n",
       "      <td>1.107505</td>\n",
       "      <td>1.048090</td>\n",
       "      <td>-0.085994</td>\n",
       "      <td>1.346351</td>\n",
       "    </tr>\n",
       "    <tr>\n",
       "      <th>4</th>\n",
       "      <td>-1.664207</td>\n",
       "      <td>-0.785201</td>\n",
       "      <td>-0.823339</td>\n",
       "      <td>1.026711</td>\n",
       "      <td>-1.560989</td>\n",
       "      <td>-0.230031</td>\n",
       "    </tr>\n",
       "    <tr>\n",
       "      <th>...</th>\n",
       "      <td>...</td>\n",
       "      <td>...</td>\n",
       "      <td>...</td>\n",
       "      <td>...</td>\n",
       "      <td>...</td>\n",
       "      <td>...</td>\n",
       "    </tr>\n",
       "    <tr>\n",
       "      <th>9995</th>\n",
       "      <td>-0.666921</td>\n",
       "      <td>-1.581237</td>\n",
       "      <td>1.383874</td>\n",
       "      <td>0.188737</td>\n",
       "      <td>-0.977311</td>\n",
       "      <td>-2.422132</td>\n",
       "    </tr>\n",
       "    <tr>\n",
       "      <th>9996</th>\n",
       "      <td>-0.200124</td>\n",
       "      <td>-0.677586</td>\n",
       "      <td>-1.230163</td>\n",
       "      <td>-0.193809</td>\n",
       "      <td>-0.415798</td>\n",
       "      <td>-0.036895</td>\n",
       "    </tr>\n",
       "    <tr>\n",
       "      <th>9997</th>\n",
       "      <td>-0.990904</td>\n",
       "      <td>1.252335</td>\n",
       "      <td>0.848335</td>\n",
       "      <td>-1.880231</td>\n",
       "      <td>1.777957</td>\n",
       "      <td>1.354796</td>\n",
       "    </tr>\n",
       "    <tr>\n",
       "      <th>9998</th>\n",
       "      <td>-0.750767</td>\n",
       "      <td>1.267135</td>\n",
       "      <td>0.130836</td>\n",
       "      <td>0.520504</td>\n",
       "      <td>0.930097</td>\n",
       "      <td>0.788045</td>\n",
       "    </tr>\n",
       "    <tr>\n",
       "      <th>9999</th>\n",
       "      <td>0.173153</td>\n",
       "      <td>-1.118145</td>\n",
       "      <td>-0.421973</td>\n",
       "      <td>0.982828</td>\n",
       "      <td>2.712438</td>\n",
       "      <td>-0.814400</td>\n",
       "    </tr>\n",
       "  </tbody>\n",
       "</table>\n",
       "<p>10000 rows × 6 columns</p>\n",
       "</div>"
      ],
      "text/plain": [
       "             a         b         c         d         k         y\n",
       "0    -0.921915  1.481904 -1.023556  1.094700 -0.610488 -0.346265\n",
       "1     1.697011  0.215881  1.354235  0.174346  0.200196  0.943370\n",
       "2     0.731167  0.938058 -1.466073  0.333023  0.128521 -0.144659\n",
       "3    -1.280680  0.736503  1.107505  1.048090 -0.085994  1.346351\n",
       "4    -1.664207 -0.785201 -0.823339  1.026711 -1.560989 -0.230031\n",
       "...        ...       ...       ...       ...       ...       ...\n",
       "9995 -0.666921 -1.581237  1.383874  0.188737 -0.977311 -2.422132\n",
       "9996 -0.200124 -0.677586 -1.230163 -0.193809 -0.415798 -0.036895\n",
       "9997 -0.990904  1.252335  0.848335 -1.880231  1.777957  1.354796\n",
       "9998 -0.750767  1.267135  0.130836  0.520504  0.930097  0.788045\n",
       "9999  0.173153 -1.118145 -0.421973  0.982828  2.712438 -0.814400\n",
       "\n",
       "[10000 rows x 6 columns]"
      ]
     },
     "execution_count": 132,
     "metadata": {},
     "output_type": "execute_result"
    }
   ],
   "source": [
    "X =data\n",
    "X"
   ]
  },
  {
   "cell_type": "code",
   "execution_count": 133,
   "id": "0b93769f",
   "metadata": {},
   "outputs": [
    {
     "name": "stdout",
     "output_type": "stream",
     "text": [
      "Slope: [[ 1.70905671e-17 -1.73842469e-15  4.52154376e-18 -1.32839783e-16\n",
      "   2.00823516e-16  1.00000000e+00]]\n",
      "Intercept: [-2.60208521e-18]\n",
      "Root mean squared error:  2.543604336954057e-30\n"
     ]
    }
   ],
   "source": [
    "### Linear Regression Modeling starts here\n",
    "from sklearn.model_selection import train_test_split\n",
    "X = data\n",
    "Y = data[[\"y\"]]\n",
    "X_train, X_test, Y_train, Y_test = train_test_split(X, Y, test_size=0.33, random_state=3)\n",
    "\n",
    "\n",
    "LR = LinearRegression()\n",
    "LR.fit(X_train,Y_train)\n",
    "\n",
    "Y_predicted = LR.predict(X_test)\n",
    "\n",
    "rmse = mean_squared_error(Y_test,Y_predicted)\n",
    "\n",
    "print('Slope:' ,LR.coef_)\n",
    "print('Intercept:', LR.intercept_)\n",
    "print('Root mean squared error: ', rmse)\n",
    "\n"
   ]
  },
  {
   "cell_type": "code",
   "execution_count": 134,
   "id": "a873aebc",
   "metadata": {},
   "outputs": [
    {
     "data": {
      "text/plain": [
       "y    2.543604e-30\n",
       "dtype: float64"
      ]
     },
     "execution_count": 134,
     "metadata": {},
     "output_type": "execute_result"
    }
   ],
   "source": [
    "np.mean((LR.predict(X_test)-Y_test)**2)"
   ]
  },
  {
   "cell_type": "code",
   "execution_count": 135,
   "id": "d93e14e6",
   "metadata": {},
   "outputs": [
    {
     "data": {
      "text/plain": [
       "1.0"
      ]
     },
     "execution_count": 135,
     "metadata": {},
     "output_type": "execute_result"
    }
   ],
   "source": [
    "LR.score(X_test, Y_test)"
   ]
  },
  {
   "cell_type": "markdown",
   "id": "f4f12681",
   "metadata": {},
   "source": [
    "1-d. Use the function `my_error()` from 1-b to estimate $\\vec{w}$ and make a visualization to show the behavior of error in terms of $r_n$. Add a point to indicate the final training model error obtained from 1-c. [5 pts]"
   ]
  },
  {
   "cell_type": "code",
   "execution_count": 144,
   "id": "481fd71c",
   "metadata": {},
   "outputs": [
    {
     "ename": "LinAlgError",
     "evalue": "1-dimensional array given. Array must be at least two-dimensional",
     "output_type": "error",
     "traceback": [
      "\u001b[1;31m---------------------------------------------------------------------------\u001b[0m",
      "\u001b[1;31mLinAlgError\u001b[0m                               Traceback (most recent call last)",
      "\u001b[1;32m~\\AppData\\Local\\Temp/ipykernel_12276/1609857387.py\u001b[0m in \u001b[0;36m<module>\u001b[1;34m\u001b[0m\n\u001b[0;32m      2\u001b[0m \u001b[0mr_n\u001b[0m \u001b[1;33m=\u001b[0m \u001b[0mnp\u001b[0m\u001b[1;33m.\u001b[0m\u001b[0mdiag\u001b[0m\u001b[1;33m(\u001b[0m\u001b[1;33m[\u001b[0m\u001b[1;36m1\u001b[0m \u001b[1;32mfor\u001b[0m \u001b[0mi\u001b[0m \u001b[1;32min\u001b[0m \u001b[0mrange\u001b[0m\u001b[1;33m(\u001b[0m\u001b[0mlen\u001b[0m\u001b[1;33m(\u001b[0m\u001b[0mdata\u001b[0m\u001b[1;33m)\u001b[0m\u001b[1;33m)\u001b[0m\u001b[1;33m]\u001b[0m\u001b[1;33m)\u001b[0m\u001b[1;33m\u001b[0m\u001b[1;33m\u001b[0m\u001b[0m\n\u001b[0;32m      3\u001b[0m \u001b[1;33m\u001b[0m\u001b[0m\n\u001b[1;32m----> 4\u001b[1;33m \u001b[0mmy_error\u001b[0m\u001b[1;33m(\u001b[0m\u001b[0mdata\u001b[0m\u001b[1;33m,\u001b[0m\u001b[0mr_n\u001b[0m\u001b[1;33m)\u001b[0m\u001b[1;33m\u001b[0m\u001b[1;33m\u001b[0m\u001b[0m\n\u001b[0m",
      "\u001b[1;32m~\\AppData\\Local\\Temp/ipykernel_12276/3865612674.py\u001b[0m in \u001b[0;36mmy_error\u001b[1;34m(data, r_n)\u001b[0m\n\u001b[0;32m     10\u001b[0m     \u001b[0merror_list\u001b[0m\u001b[1;33m=\u001b[0m\u001b[1;33m[\u001b[0m\u001b[1;33m]\u001b[0m\u001b[1;33m\u001b[0m\u001b[1;33m\u001b[0m\u001b[0m\n\u001b[0;32m     11\u001b[0m     \u001b[1;32mfor\u001b[0m \u001b[0mr\u001b[0m \u001b[1;32min\u001b[0m \u001b[0mr_n\u001b[0m\u001b[1;33m:\u001b[0m\u001b[1;33m\u001b[0m\u001b[1;33m\u001b[0m\u001b[0m\n\u001b[1;32m---> 12\u001b[1;33m         \u001b[0mw\u001b[0m \u001b[1;33m=\u001b[0m \u001b[0mnp\u001b[0m\u001b[1;33m.\u001b[0m\u001b[0mdot\u001b[0m\u001b[1;33m(\u001b[0m\u001b[0minv\u001b[0m\u001b[1;33m(\u001b[0m\u001b[0mnp\u001b[0m\u001b[1;33m.\u001b[0m\u001b[0mdot\u001b[0m\u001b[1;33m(\u001b[0m\u001b[0mnp\u001b[0m\u001b[1;33m.\u001b[0m\u001b[0mdot\u001b[0m\u001b[1;33m(\u001b[0m\u001b[0mr\u001b[0m\u001b[1;33m,\u001b[0m\u001b[0mX\u001b[0m\u001b[1;33m)\u001b[0m\u001b[1;33m,\u001b[0m\u001b[0mX\u001b[0m\u001b[1;33m.\u001b[0m\u001b[0mT\u001b[0m\u001b[1;33m)\u001b[0m\u001b[1;33m)\u001b[0m\u001b[1;33m,\u001b[0m\u001b[0mnp\u001b[0m\u001b[1;33m.\u001b[0m\u001b[0mdot\u001b[0m\u001b[1;33m(\u001b[0m\u001b[0mX\u001b[0m\u001b[1;33m,\u001b[0m\u001b[0mnp\u001b[0m\u001b[1;33m.\u001b[0m\u001b[0mdot\u001b[0m\u001b[1;33m(\u001b[0m\u001b[0mr\u001b[0m\u001b[1;33m,\u001b[0m\u001b[0mY\u001b[0m\u001b[1;33m)\u001b[0m\u001b[1;33m)\u001b[0m\u001b[1;33m)\u001b[0m\u001b[1;33m\u001b[0m\u001b[1;33m\u001b[0m\u001b[0m\n\u001b[0m\u001b[0;32m     13\u001b[0m         \u001b[0merror\u001b[0m \u001b[1;33m=\u001b[0m \u001b[1;36m1\u001b[0m\u001b[1;33m/\u001b[0m\u001b[1;36m2\u001b[0m\u001b[1;33m*\u001b[0m\u001b[0mnp\u001b[0m\u001b[1;33m.\u001b[0m\u001b[0msum\u001b[0m\u001b[1;33m(\u001b[0m\u001b[0mnp\u001b[0m\u001b[1;33m.\u001b[0m\u001b[0mdot\u001b[0m\u001b[1;33m(\u001b[0m\u001b[0mr\u001b[0m\u001b[1;33m,\u001b[0m\u001b[0mpow\u001b[0m\u001b[1;33m(\u001b[0m\u001b[1;33m(\u001b[0m\u001b[0mY\u001b[0m\u001b[1;33m-\u001b[0m\u001b[0mnp\u001b[0m\u001b[1;33m.\u001b[0m\u001b[0mdot\u001b[0m\u001b[1;33m(\u001b[0m\u001b[0mw\u001b[0m\u001b[1;33m.\u001b[0m\u001b[0mT\u001b[0m\u001b[1;33m,\u001b[0m\u001b[0mdata\u001b[0m\u001b[1;33m)\u001b[0m\u001b[1;33m)\u001b[0m\u001b[1;33m,\u001b[0m\u001b[1;36m2\u001b[0m\u001b[1;33m)\u001b[0m\u001b[1;33m)\u001b[0m\u001b[1;33m)\u001b[0m\u001b[1;33m\u001b[0m\u001b[1;33m\u001b[0m\u001b[0m\n\u001b[0;32m     14\u001b[0m         \u001b[0mw_list\u001b[0m\u001b[1;33m.\u001b[0m\u001b[0mappend\u001b[0m\u001b[1;33m(\u001b[0m\u001b[0mw\u001b[0m\u001b[1;33m)\u001b[0m\u001b[1;33m\u001b[0m\u001b[1;33m\u001b[0m\u001b[0m\n",
      "\u001b[1;32m<__array_function__ internals>\u001b[0m in \u001b[0;36minv\u001b[1;34m(*args, **kwargs)\u001b[0m\n",
      "\u001b[1;32m~\\anaconda3\\lib\\site-packages\\numpy\\linalg\\linalg.py\u001b[0m in \u001b[0;36minv\u001b[1;34m(a)\u001b[0m\n\u001b[0;32m    538\u001b[0m     \"\"\"\n\u001b[0;32m    539\u001b[0m     \u001b[0ma\u001b[0m\u001b[1;33m,\u001b[0m \u001b[0mwrap\u001b[0m \u001b[1;33m=\u001b[0m \u001b[0m_makearray\u001b[0m\u001b[1;33m(\u001b[0m\u001b[0ma\u001b[0m\u001b[1;33m)\u001b[0m\u001b[1;33m\u001b[0m\u001b[1;33m\u001b[0m\u001b[0m\n\u001b[1;32m--> 540\u001b[1;33m     \u001b[0m_assert_stacked_2d\u001b[0m\u001b[1;33m(\u001b[0m\u001b[0ma\u001b[0m\u001b[1;33m)\u001b[0m\u001b[1;33m\u001b[0m\u001b[1;33m\u001b[0m\u001b[0m\n\u001b[0m\u001b[0;32m    541\u001b[0m     \u001b[0m_assert_stacked_square\u001b[0m\u001b[1;33m(\u001b[0m\u001b[0ma\u001b[0m\u001b[1;33m)\u001b[0m\u001b[1;33m\u001b[0m\u001b[1;33m\u001b[0m\u001b[0m\n\u001b[0;32m    542\u001b[0m     \u001b[0mt\u001b[0m\u001b[1;33m,\u001b[0m \u001b[0mresult_t\u001b[0m \u001b[1;33m=\u001b[0m \u001b[0m_commonType\u001b[0m\u001b[1;33m(\u001b[0m\u001b[0ma\u001b[0m\u001b[1;33m)\u001b[0m\u001b[1;33m\u001b[0m\u001b[1;33m\u001b[0m\u001b[0m\n",
      "\u001b[1;32m~\\anaconda3\\lib\\site-packages\\numpy\\linalg\\linalg.py\u001b[0m in \u001b[0;36m_assert_stacked_2d\u001b[1;34m(*arrays)\u001b[0m\n\u001b[0;32m    195\u001b[0m     \u001b[1;32mfor\u001b[0m \u001b[0ma\u001b[0m \u001b[1;32min\u001b[0m \u001b[0marrays\u001b[0m\u001b[1;33m:\u001b[0m\u001b[1;33m\u001b[0m\u001b[1;33m\u001b[0m\u001b[0m\n\u001b[0;32m    196\u001b[0m         \u001b[1;32mif\u001b[0m \u001b[0ma\u001b[0m\u001b[1;33m.\u001b[0m\u001b[0mndim\u001b[0m \u001b[1;33m<\u001b[0m \u001b[1;36m2\u001b[0m\u001b[1;33m:\u001b[0m\u001b[1;33m\u001b[0m\u001b[1;33m\u001b[0m\u001b[0m\n\u001b[1;32m--> 197\u001b[1;33m             raise LinAlgError('%d-dimensional array given. Array must be '\n\u001b[0m\u001b[0;32m    198\u001b[0m                     'at least two-dimensional' % a.ndim)\n\u001b[0;32m    199\u001b[0m \u001b[1;33m\u001b[0m\u001b[0m\n",
      "\u001b[1;31mLinAlgError\u001b[0m: 1-dimensional array given. Array must be at least two-dimensional"
     ]
    }
   ],
   "source": [
    "### Visualization starts from here. \n",
    "r_n = np.diag([1 for i in range(len(data))])\n",
    "\n",
    "my_error(data,r_n)"
   ]
  },
  {
   "cell_type": "code",
   "execution_count": null,
   "id": "c8e5b67f",
   "metadata": {},
   "outputs": [],
   "source": []
  },
  {
   "cell_type": "markdown",
   "id": "8a8f730e",
   "metadata": {},
   "source": [
    "### Problem 2 - Linear Classification 1 [65 pts]\n",
    "\n",
    "In this assignment, you are going to implement three classifiers - **LDA, Perceptron, and Logistic Regression** - to predict the risk of heart attack using the provided dataset, `heart.csv`. \n",
    "\n",
    "Here are data attributes:\n",
    "- Age : Age of the patient\n",
    "- Sex : Sex of the patient\n",
    "- exang: exercise induced angina (1 = yes; 0 = no)\n",
    "- ca: number of major vessels (0-3)\n",
    "- cp : Chest Pain type chest pain type\n",
    "    - Value 1: typical angina\n",
    "    - Value 2: atypical angina\n",
    "    - Value 3: non-anginal pain\n",
    "    - Value 4: asymptomatic\n",
    "- trtbps : resting blood pressure (in mm Hg)\n",
    "- chol : cholestoral in mg/dl fetched via BMI sensor\n",
    "- fbs : (fasting blood sugar > 120 mg/dl) (1 = true; 0 = false)\n",
    "- restecg : resting electrocardiographic results\n",
    "    - Value 0: normal\n",
    "    - Value 1: having ST-T wave abnormality (T wave inversions and/or ST elevation or depression of > 0.05 mV)\n",
    "    - Value 2: showing probable or definite left ventricular hypertrophy by Estes' criteria\n",
    "- thalach : maximum heart rate achieved\n",
    "- output : 0= less chance of heart attack 1= more chance of heart attack"
   ]
  },
  {
   "cell_type": "markdown",
   "id": "3598064c",
   "metadata": {},
   "source": [
    "2-a. Implement `my_LDA` that classifies the target. Use `accuracy_score` from `sklearn.metrics` to calculate the accuracy. [10 pts]"
   ]
  },
  {
   "cell_type": "code",
   "execution_count": 1,
   "id": "4153af93",
   "metadata": {},
   "outputs": [
    {
     "data": {
      "text/html": [
       "<div>\n",
       "<style scoped>\n",
       "    .dataframe tbody tr th:only-of-type {\n",
       "        vertical-align: middle;\n",
       "    }\n",
       "\n",
       "    .dataframe tbody tr th {\n",
       "        vertical-align: top;\n",
       "    }\n",
       "\n",
       "    .dataframe thead th {\n",
       "        text-align: right;\n",
       "    }\n",
       "</style>\n",
       "<table border=\"1\" class=\"dataframe\">\n",
       "  <thead>\n",
       "    <tr style=\"text-align: right;\">\n",
       "      <th></th>\n",
       "      <th>age</th>\n",
       "      <th>sex</th>\n",
       "      <th>cp</th>\n",
       "      <th>trtbps</th>\n",
       "      <th>chol</th>\n",
       "      <th>fbs</th>\n",
       "      <th>restecg</th>\n",
       "      <th>thalachh</th>\n",
       "      <th>exng</th>\n",
       "      <th>oldpeak</th>\n",
       "      <th>slp</th>\n",
       "      <th>caa</th>\n",
       "      <th>thall</th>\n",
       "      <th>output</th>\n",
       "    </tr>\n",
       "  </thead>\n",
       "  <tbody>\n",
       "    <tr>\n",
       "      <th>0</th>\n",
       "      <td>63</td>\n",
       "      <td>1</td>\n",
       "      <td>3</td>\n",
       "      <td>145</td>\n",
       "      <td>233</td>\n",
       "      <td>1</td>\n",
       "      <td>0</td>\n",
       "      <td>150</td>\n",
       "      <td>0</td>\n",
       "      <td>2.3</td>\n",
       "      <td>0</td>\n",
       "      <td>0</td>\n",
       "      <td>1</td>\n",
       "      <td>1</td>\n",
       "    </tr>\n",
       "    <tr>\n",
       "      <th>1</th>\n",
       "      <td>37</td>\n",
       "      <td>1</td>\n",
       "      <td>2</td>\n",
       "      <td>130</td>\n",
       "      <td>250</td>\n",
       "      <td>0</td>\n",
       "      <td>1</td>\n",
       "      <td>187</td>\n",
       "      <td>0</td>\n",
       "      <td>3.5</td>\n",
       "      <td>0</td>\n",
       "      <td>0</td>\n",
       "      <td>2</td>\n",
       "      <td>1</td>\n",
       "    </tr>\n",
       "    <tr>\n",
       "      <th>2</th>\n",
       "      <td>41</td>\n",
       "      <td>0</td>\n",
       "      <td>1</td>\n",
       "      <td>130</td>\n",
       "      <td>204</td>\n",
       "      <td>0</td>\n",
       "      <td>0</td>\n",
       "      <td>172</td>\n",
       "      <td>0</td>\n",
       "      <td>1.4</td>\n",
       "      <td>2</td>\n",
       "      <td>0</td>\n",
       "      <td>2</td>\n",
       "      <td>1</td>\n",
       "    </tr>\n",
       "    <tr>\n",
       "      <th>3</th>\n",
       "      <td>56</td>\n",
       "      <td>1</td>\n",
       "      <td>1</td>\n",
       "      <td>120</td>\n",
       "      <td>236</td>\n",
       "      <td>0</td>\n",
       "      <td>1</td>\n",
       "      <td>178</td>\n",
       "      <td>0</td>\n",
       "      <td>0.8</td>\n",
       "      <td>2</td>\n",
       "      <td>0</td>\n",
       "      <td>2</td>\n",
       "      <td>1</td>\n",
       "    </tr>\n",
       "    <tr>\n",
       "      <th>4</th>\n",
       "      <td>57</td>\n",
       "      <td>0</td>\n",
       "      <td>0</td>\n",
       "      <td>120</td>\n",
       "      <td>354</td>\n",
       "      <td>0</td>\n",
       "      <td>1</td>\n",
       "      <td>163</td>\n",
       "      <td>1</td>\n",
       "      <td>0.6</td>\n",
       "      <td>2</td>\n",
       "      <td>0</td>\n",
       "      <td>2</td>\n",
       "      <td>1</td>\n",
       "    </tr>\n",
       "    <tr>\n",
       "      <th>...</th>\n",
       "      <td>...</td>\n",
       "      <td>...</td>\n",
       "      <td>...</td>\n",
       "      <td>...</td>\n",
       "      <td>...</td>\n",
       "      <td>...</td>\n",
       "      <td>...</td>\n",
       "      <td>...</td>\n",
       "      <td>...</td>\n",
       "      <td>...</td>\n",
       "      <td>...</td>\n",
       "      <td>...</td>\n",
       "      <td>...</td>\n",
       "      <td>...</td>\n",
       "    </tr>\n",
       "    <tr>\n",
       "      <th>298</th>\n",
       "      <td>57</td>\n",
       "      <td>0</td>\n",
       "      <td>0</td>\n",
       "      <td>140</td>\n",
       "      <td>241</td>\n",
       "      <td>0</td>\n",
       "      <td>1</td>\n",
       "      <td>123</td>\n",
       "      <td>1</td>\n",
       "      <td>0.2</td>\n",
       "      <td>1</td>\n",
       "      <td>0</td>\n",
       "      <td>3</td>\n",
       "      <td>0</td>\n",
       "    </tr>\n",
       "    <tr>\n",
       "      <th>299</th>\n",
       "      <td>45</td>\n",
       "      <td>1</td>\n",
       "      <td>3</td>\n",
       "      <td>110</td>\n",
       "      <td>264</td>\n",
       "      <td>0</td>\n",
       "      <td>1</td>\n",
       "      <td>132</td>\n",
       "      <td>0</td>\n",
       "      <td>1.2</td>\n",
       "      <td>1</td>\n",
       "      <td>0</td>\n",
       "      <td>3</td>\n",
       "      <td>0</td>\n",
       "    </tr>\n",
       "    <tr>\n",
       "      <th>300</th>\n",
       "      <td>68</td>\n",
       "      <td>1</td>\n",
       "      <td>0</td>\n",
       "      <td>144</td>\n",
       "      <td>193</td>\n",
       "      <td>1</td>\n",
       "      <td>1</td>\n",
       "      <td>141</td>\n",
       "      <td>0</td>\n",
       "      <td>3.4</td>\n",
       "      <td>1</td>\n",
       "      <td>2</td>\n",
       "      <td>3</td>\n",
       "      <td>0</td>\n",
       "    </tr>\n",
       "    <tr>\n",
       "      <th>301</th>\n",
       "      <td>57</td>\n",
       "      <td>1</td>\n",
       "      <td>0</td>\n",
       "      <td>130</td>\n",
       "      <td>131</td>\n",
       "      <td>0</td>\n",
       "      <td>1</td>\n",
       "      <td>115</td>\n",
       "      <td>1</td>\n",
       "      <td>1.2</td>\n",
       "      <td>1</td>\n",
       "      <td>1</td>\n",
       "      <td>3</td>\n",
       "      <td>0</td>\n",
       "    </tr>\n",
       "    <tr>\n",
       "      <th>302</th>\n",
       "      <td>57</td>\n",
       "      <td>0</td>\n",
       "      <td>1</td>\n",
       "      <td>130</td>\n",
       "      <td>236</td>\n",
       "      <td>0</td>\n",
       "      <td>0</td>\n",
       "      <td>174</td>\n",
       "      <td>0</td>\n",
       "      <td>0.0</td>\n",
       "      <td>1</td>\n",
       "      <td>1</td>\n",
       "      <td>2</td>\n",
       "      <td>0</td>\n",
       "    </tr>\n",
       "  </tbody>\n",
       "</table>\n",
       "<p>303 rows × 14 columns</p>\n",
       "</div>"
      ],
      "text/plain": [
       "     age  sex  cp  trtbps  chol  fbs  restecg  thalachh  exng  oldpeak  slp  \\\n",
       "0     63    1   3     145   233    1        0       150     0      2.3    0   \n",
       "1     37    1   2     130   250    0        1       187     0      3.5    0   \n",
       "2     41    0   1     130   204    0        0       172     0      1.4    2   \n",
       "3     56    1   1     120   236    0        1       178     0      0.8    2   \n",
       "4     57    0   0     120   354    0        1       163     1      0.6    2   \n",
       "..   ...  ...  ..     ...   ...  ...      ...       ...   ...      ...  ...   \n",
       "298   57    0   0     140   241    0        1       123     1      0.2    1   \n",
       "299   45    1   3     110   264    0        1       132     0      1.2    1   \n",
       "300   68    1   0     144   193    1        1       141     0      3.4    1   \n",
       "301   57    1   0     130   131    0        1       115     1      1.2    1   \n",
       "302   57    0   1     130   236    0        0       174     0      0.0    1   \n",
       "\n",
       "     caa  thall  output  \n",
       "0      0      1       1  \n",
       "1      0      2       1  \n",
       "2      0      2       1  \n",
       "3      0      2       1  \n",
       "4      0      2       1  \n",
       "..   ...    ...     ...  \n",
       "298    0      3       0  \n",
       "299    0      3       0  \n",
       "300    2      3       0  \n",
       "301    1      3       0  \n",
       "302    1      2       0  \n",
       "\n",
       "[303 rows x 14 columns]"
      ]
     },
     "execution_count": 1,
     "metadata": {},
     "output_type": "execute_result"
    }
   ],
   "source": [
    "from sklearn.metrics import accuracy_score\n",
    "import pandas as pd\n",
    "import numpy as np\n",
    "data = pd.read_csv(\"heart.csv\")\n",
    "\n",
    "X = data.drop(\"output\",axis=1)\n",
    "y= data[\"output\"]\n",
    "data"
   ]
  },
  {
   "cell_type": "code",
   "execution_count": 2,
   "id": "1f386abe",
   "metadata": {},
   "outputs": [],
   "source": [
    "### my_LDA starts here \n",
    "\n",
    "def my_LDA(X,Y,n_dim):\n",
    "    clusters = np.unique(Y)#find unique number of label\n",
    "    if n_dim > len(clusters)-1:\n",
    "        print(\"dim number is too larger \")\n",
    "        \n",
    "    #within_class scatter matrix\n",
    "    wm = np.zeros((X.shape[1],X.shape[1]))\n",
    "    for i in clusters:\n",
    "        datai = X[Y == i]\n",
    "        datai = datai-datai.mean(0)\n",
    "        wmi = np.mat(datai).T*np.mat(datai)\n",
    "        wm +=  wmi\n",
    "\n",
    "    #between_class scatter matrix\n",
    "    bm = np.zeros((X.shape[1],X.shape[1]))\n",
    "    u = X.mean(0)  #mean of X\n",
    "    for i in clusters:\n",
    "        Ni = X[Y == i].shape[0]\n",
    "        ui = X[Y == i].mean(0)  \n",
    "        bmi = Ni*np.mat(ui - u).T*np.mat(ui - u)\n",
    "        bm += bmi\n",
    "        \n",
    "    S = np.linalg.inv(wm)*bm  #within matrix times between matrix to finde eigvector\n",
    "    eigVals,eigVects = np.linalg.eig(S)  #eigvector and eigvalue\n",
    "    eigValInd = np.argsort(eigVals)\n",
    "    \n",
    "    eigValInd = eigValInd[:(-n_dim-1):-1]\n",
    "    w = eigVects[:,eigValInd]\n",
    "    data_ndim = np.dot(X, w)\n",
    "    return data_ndim"
   ]
  },
  {
   "cell_type": "markdown",
   "id": "4c778836",
   "metadata": {},
   "source": [
    "2-b. Implement `my_Perceptron` that classifies the target. Use `accuracy_score` from `sklearn.metrics` to calculate the accuracy. [10 pts]"
   ]
  },
  {
   "cell_type": "code",
   "execution_count": 3,
   "id": "5e6c8f08",
   "metadata": {},
   "outputs": [],
   "source": [
    "### my_Perceptron starts here\n",
    "def step_func(z):\n",
    "        return 1.0 if (z > 0) else 0.0\n",
    "def perceptron(X, y, lr, epochs):\n",
    "    \n",
    "    m, n = X.shape #m is number of training examples and n is number of features \n",
    "    \n",
    "    # Initializing parapeters(theta) to zeros.\n",
    "    theta = np.zeros((n+1,1))\n",
    "    # Empty list to store how many examples were\n",
    "    n_miss_list = [] \n",
    "    for epoch in range(epochs):\n",
    "        n_miss = 0\n",
    "        \n",
    "        # looping for every example.\n",
    "        for idx, x_i in enumerate(X):\n",
    "            # Insering 1 for bias, X0 = 1.\n",
    "            x_i = np.insert(x_i, 0, 1).reshape(-1,1)\n",
    "            \n",
    "            x_i = x_i.astype(float) # add to float\n",
    "            \n",
    "            # Calculating prediction/hypothesis.\n",
    "            y_hat = step_func(np.dot(x_i.T, theta))\n",
    "            \n",
    "            # Updating if the example is misclassified.\n",
    "            if (np.squeeze(y_hat) - y[idx]) != 0:\n",
    "                theta += lr*((y[idx] - y_hat)*x_i)\n",
    "                \n",
    "                # Incrementing by 1.\n",
    "                n_miss += 1   \n",
    "        # Appending number of misclassified examples\n",
    "        # at every iteration.\n",
    "        n_miss_list.append(n_miss)\n",
    "        \n",
    "    return theta, n_miss_list"
   ]
  },
  {
   "cell_type": "code",
   "execution_count": null,
   "id": "5ad3926b",
   "metadata": {},
   "outputs": [],
   "source": [
    "\n"
   ]
  },
  {
   "cell_type": "markdown",
   "id": "1321e9ce",
   "metadata": {},
   "source": [
    "2-c. Implement `my_LogisticRegression` that classifies the target. Use `accuracy_score` from `sklearn.metrics` to calculate the accuracy. [10 pts]"
   ]
  },
  {
   "cell_type": "code",
   "execution_count": 4,
   "id": "36cf4869",
   "metadata": {},
   "outputs": [],
   "source": [
    "### my_LogisticRegression starts here\n",
    "\n",
    "\n",
    "class my_LogisticRegression:\n",
    "    def __init__(self,x,y):      \n",
    "        self.intercept = np.ones((x.shape[0], 1))  \n",
    "        self.x = np.concatenate((self.intercept, x), axis=1)\n",
    "        self.weight = np.zeros(self.x.shape[1])\n",
    "        self.y = y\n",
    "        \n",
    "    #Method for calculating the gradients\n",
    "    def gradient_descent(self, X, h, y):\n",
    "        return np.dot(X.T, (h - y)) / y.shape[0]\n",
    "    \n",
    "    #Sigmoid method\n",
    "    def sigmoid(self, x, weight):\n",
    "        z = np.dot(x, weight)\n",
    "        return 1 / (1 + np.exp(-z))\n",
    "    \n",
    "    #method to calculate the Loss\n",
    "    def loss(self, h, y):\n",
    "        return (-y * np.log(h) - (1 - y) * np.log(1 - h)).mean()\n",
    "\n",
    "    \n",
    "    def fit(self, lr , iterations): # reference idea from internet\n",
    "        for i in range(iterations):\n",
    "            sigma = self.sigmoid(self.x, self.weight)\n",
    "            \n",
    "            loss = self.loss(sigma,self.y)\n",
    "\n",
    "            GD = self.gradient_descent(self.x , sigma, self.y)\n",
    "            self.weight -= lr * GD\n",
    "\n",
    "    def predict(self, x_new , treshold):\n",
    "        x_new = np.concatenate((self.intercept, x_new), axis=1)\n",
    "        result = self.sigmoid(x_new, self.weight)\n",
    "        result = result >= treshold\n",
    "        y_pred = np.zeros(result.shape[0])\n",
    "        for i in range(len(y_pred)):\n",
    "            if result[i] == True: \n",
    "                y_pred[i] = 1\n",
    "            else:\n",
    "                continue\n",
    "                \n",
    "        return y_pred"
   ]
  },
  {
   "cell_type": "markdown",
   "id": "178afd0e",
   "metadata": {},
   "source": [
    "2-d. The EDA and pre-processing are not limitted however, you must\n",
    "1. check if the data is **balanced** or not. \n",
    "2. check if features are **skewed** or not.\n",
    "3. check outliers. \n",
    "\n",
    "For any finds from 1 to 3, please handle the data carefully. Exaplin your workflow and perform accordingly. If any interesting facts are learned, please state them. [15 pts]"
   ]
  },
  {
   "cell_type": "code",
   "execution_count": 5,
   "id": "a18e84a0",
   "metadata": {},
   "outputs": [
    {
     "name": "stdout",
     "output_type": "stream",
     "text": [
      "<class 'pandas.core.frame.DataFrame'>\n",
      "RangeIndex: 303 entries, 0 to 302\n",
      "Data columns (total 14 columns):\n",
      " #   Column    Non-Null Count  Dtype  \n",
      "---  ------    --------------  -----  \n",
      " 0   age       303 non-null    int64  \n",
      " 1   sex       303 non-null    int64  \n",
      " 2   cp        303 non-null    int64  \n",
      " 3   trtbps    303 non-null    int64  \n",
      " 4   chol      303 non-null    int64  \n",
      " 5   fbs       303 non-null    int64  \n",
      " 6   restecg   303 non-null    int64  \n",
      " 7   thalachh  303 non-null    int64  \n",
      " 8   exng      303 non-null    int64  \n",
      " 9   oldpeak   303 non-null    float64\n",
      " 10  slp       303 non-null    int64  \n",
      " 11  caa       303 non-null    int64  \n",
      " 12  thall     303 non-null    int64  \n",
      " 13  output    303 non-null    int64  \n",
      "dtypes: float64(1), int64(13)\n",
      "memory usage: 33.3 KB\n"
     ]
    }
   ],
   "source": [
    "### EDA stars here\n",
    "data.info()"
   ]
  },
  {
   "cell_type": "code",
   "execution_count": 6,
   "id": "16347a25",
   "metadata": {},
   "outputs": [
    {
     "name": "stdout",
     "output_type": "stream",
     "text": [
      "165\n",
      "138\n"
     ]
    }
   ],
   "source": [
    "# to check if the target is balance or not\n",
    "count1=0\n",
    "count0=0\n",
    "for i in data[\"output\"]:\n",
    "    if i==0:\n",
    "        count0 +=1\n",
    "    else:\n",
    "        count1 +=1\n",
    "\n",
    "print(count1)\n",
    "print(count0)"
   ]
  },
  {
   "cell_type": "code",
   "execution_count": 7,
   "id": "35181b3e",
   "metadata": {
    "scrolled": true
   },
   "outputs": [
    {
     "name": "stdout",
     "output_type": "stream",
     "text": [
      "              Skew\n",
      "fbs       1.986652\n",
      "caa       1.310422\n",
      "oldpeak   1.269720\n",
      "chol      1.143401\n",
      "exng      0.742532\n",
      "trtbps    0.713768\n",
      "cp        0.484732\n",
      "restecg   0.162522\n",
      "age      -0.202463\n",
      "thall    -0.476722\n",
      "slp      -0.508316\n",
      "thalachh -0.537410\n",
      "sex      -0.791335\n"
     ]
    }
   ],
   "source": [
    "#check if features are skewed or not.\n",
    "\n",
    "num_feats = data.drop(\"output\",axis=1).dtypes[data.dtypes!='object'].index\n",
    "\n",
    "\n",
    "skew_feats = data[num_feats].skew().sort_values(ascending=False)\n",
    "skewness = pd.DataFrame({'Skew':skew_feats})\n",
    "print(skewness)"
   ]
  },
  {
   "cell_type": "code",
   "execution_count": 8,
   "id": "e8b00c03",
   "metadata": {},
   "outputs": [
    {
     "name": "stderr",
     "output_type": "stream",
     "text": [
      "C:\\Users\\10617\\anaconda3\\lib\\site-packages\\seaborn\\distributions.py:2619: FutureWarning: `distplot` is a deprecated function and will be removed in a future version. Please adapt your code to use either `displot` (a figure-level function with similar flexibility) or `histplot` (an axes-level function for histograms).\n",
      "  warnings.warn(msg, FutureWarning)\n",
      "C:\\Users\\10617\\anaconda3\\lib\\site-packages\\seaborn\\distributions.py:316: UserWarning: Dataset has 0 variance; skipping density estimate. Pass `warn_singular=False` to disable this warning.\n",
      "  warnings.warn(msg, UserWarning)\n"
     ]
    },
    {
     "data": {
      "text/plain": [
       "<matplotlib.legend.Legend at 0x1b2eb6f0e50>"
      ]
     },
     "execution_count": 8,
     "metadata": {},
     "output_type": "execute_result"
    },
    {
     "data": {
      "image/png": "[encoded data removed]",
      "text/plain": [
       "<Figure size 432x288 with 1 Axes>"
      ]
     },
     "metadata": {
      "needs_background": "light"
     },
     "output_type": "display_data"
    }
   ],
   "source": [
    "import seaborn as sns\n",
    "import numpy as np\n",
    "\n",
    "# Log Transform to remove skewness\n",
    "Log = data[\"fbs\"].map(lambda i: np.log(i) if i > 0 else 0)\n",
    "t=sns.distplot(Log,label=\"Skewness: %.2f\"%(Log.skew()) )\n",
    "t.legend()"
   ]
  },
  {
   "cell_type": "code",
   "execution_count": 9,
   "id": "3f127dbe",
   "metadata": {},
   "outputs": [
    {
     "name": "stderr",
     "output_type": "stream",
     "text": [
      "C:\\Users\\10617\\anaconda3\\lib\\site-packages\\seaborn\\distributions.py:2619: FutureWarning: `distplot` is a deprecated function and will be removed in a future version. Please adapt your code to use either `displot` (a figure-level function with similar flexibility) or `histplot` (an axes-level function for histograms).\n",
      "  warnings.warn(msg, FutureWarning)\n"
     ]
    },
    {
     "data": {
      "text/plain": [
       "<matplotlib.legend.Legend at 0x1b2eb7bc3a0>"
      ]
     },
     "execution_count": 9,
     "metadata": {},
     "output_type": "execute_result"
    },
    {
     "data": {
      "image/png": "[encoded data removed]",
      "text/plain": [
       "<Figure size 432x288 with 1 Axes>"
      ]
     },
     "metadata": {
      "needs_background": "light"
     },
     "output_type": "display_data"
    }
   ],
   "source": [
    "import seaborn as sns\n",
    "import numpy as np\n",
    "\n",
    "# Log Transform to remove skewness\n",
    "Log = data[\"caa\"].map(lambda i: np.log(i) if i > 0 else 0)\n",
    "t=sns.distplot(Log,label=\"Skewness: %.2f\"%(Log.skew()) )\n",
    "t.legend()"
   ]
  },
  {
   "cell_type": "code",
   "execution_count": 10,
   "id": "d8fa8765",
   "metadata": {},
   "outputs": [
    {
     "data": {
      "text/plain": [
       "<AxesSubplot:>"
      ]
     },
     "execution_count": 10,
     "metadata": {},
     "output_type": "execute_result"
    },
    {
     "data": {
      "image/png": "[encoded data removed]",
      "text/plain": [
       "<Figure size 640x640 with 5 Axes>"
      ]
     },
     "metadata": {
      "needs_background": "light"
     },
     "output_type": "display_data"
    }
   ],
   "source": [
    "#check outliers.\n",
    "import matplotlib.pyplot as plt\n",
    "plt.figure(figsize=(8,8),dpi=80)\n",
    "plt.subplot(231)\n",
    "data.boxplot(column=[\"age\"])\n",
    "plt.subplot(232)\n",
    "data.boxplot(column=[\"thalachh\"])\n",
    "plt.subplot(233)\n",
    "data.boxplot(column=[\"oldpeak\"])\n",
    "plt.subplot(234)\n",
    "data.boxplot(column=[\"chol\"])\n",
    "plt.subplot(235)\n",
    "data.boxplot(column=[\"trtbps\"])\n"
   ]
  },
  {
   "cell_type": "code",
   "execution_count": 11,
   "id": "a09eac2c",
   "metadata": {},
   "outputs": [
    {
     "data": {
      "text/plain": [
       "<AxesSubplot:>"
      ]
     },
     "execution_count": 11,
     "metadata": {},
     "output_type": "execute_result"
    },
    {
     "data": {
      "image/png": "[encoded data removed]",
      "text/plain": [
       "<Figure size 432x288 with 3 Axes>"
      ]
     },
     "metadata": {
      "needs_background": "light"
     },
     "output_type": "display_data"
    }
   ],
   "source": [
    "import numpy as np\n",
    "def remove_outlier(col):  # to remove outlier base on IQR method\n",
    "    sorted(col)\n",
    "    Q1,Q3 = col.quantile([0.25,0.75])\n",
    "    IQR = Q3-Q1\n",
    "    lower_range = Q1-(1.5 * IQR)\n",
    "    upper_range = Q3+(1.5 * IQR)\n",
    "    return lower_range, upper_range\n",
    "\n",
    "low,upper = remove_outlier(data[\"oldpeak\"])\n",
    "data[\"oldpeak\"]=np.where(data[\"oldpeak\"]>upper,upper,data[\"oldpeak\"])\n",
    "data[\"oldpeak\"]=np.where(data[\"oldpeak\"]<low,low,data[\"oldpeak\"])\n",
    "\n",
    "low,upper = remove_outlier(data[\"chol\"])\n",
    "data[\"chol\"]=np.where(data[\"chol\"]>upper,upper,data[\"chol\"])\n",
    "data[\"chol\"]=np.where(data[\"chol\"]<low,low,data[\"chol\"])\n",
    "\n",
    "low,upper = remove_outlier(data[\"trtbps\"])\n",
    "data[\"trtbps\"]=np.where(data[\"trtbps\"]>upper,upper,data[\"trtbps\"])\n",
    "data[\"trtbps\"]=np.where(data[\"trtbps\"]<low,low,data[\"trtbps\"])\n",
    "#after remove outliers\n",
    "plt.subplot(231)\n",
    "data.boxplot(column=[\"oldpeak\"])\n",
    "plt.subplot(232)\n",
    "data.boxplot(column=[\"chol\"])\n",
    "plt.subplot(233)\n",
    "data.boxplot(column=[\"trtbps\"])\n"
   ]
  },
  {
   "cell_type": "code",
   "execution_count": 12,
   "id": "1de2878d",
   "metadata": {},
   "outputs": [],
   "source": [
    "### Pre-processing starts here"
   ]
  },
  {
   "cell_type": "code",
   "execution_count": 13,
   "id": "fabcd34e",
   "metadata": {},
   "outputs": [
    {
     "data": {
      "text/plain": [
       "array([[ 0.9521966 ,  0.68100522,  1.97312292, ..., -2.27457861,\n",
       "        -0.71442887, -2.14887271],\n",
       "       [-1.91531289,  0.68100522,  1.00257707, ..., -2.27457861,\n",
       "        -0.71442887, -0.51292188],\n",
       "       [-1.47415758, -1.46841752,  0.03203122, ...,  0.97635214,\n",
       "        -0.71442887, -0.51292188],\n",
       "       ...,\n",
       "       [ 1.50364073,  0.68100522, -0.93851463, ..., -0.64911323,\n",
       "         1.24459328,  1.12302895],\n",
       "       [ 0.29046364,  0.68100522, -0.93851463, ..., -0.64911323,\n",
       "         0.26508221,  1.12302895],\n",
       "       [ 0.29046364, -1.46841752,  0.03203122, ..., -0.64911323,\n",
       "         0.26508221, -0.51292188]])"
      ]
     },
     "execution_count": 13,
     "metadata": {},
     "output_type": "execute_result"
    }
   ],
   "source": [
    "from sklearn.preprocessing import StandardScaler\n",
    "scaler = StandardScaler()\n",
    "scaler.fit_transform(data.drop(\"output\",axis=1))\n"
   ]
  },
  {
   "cell_type": "markdown",
   "id": "b88756d9",
   "metadata": {},
   "source": [
    "2-e. Use ML LDA, Perceptron, and LogisticRegression from sklearn to classify the trained data and report the accuracy. [10 pts]"
   ]
  },
  {
   "cell_type": "code",
   "execution_count": 14,
   "id": "c1f5392e",
   "metadata": {},
   "outputs": [],
   "source": [
    "from sklearn.linear_model import LogisticRegression\n",
    "from sklearn.discriminant_analysis import LinearDiscriminantAnalysis\n",
    "from sklearn.linear_model import Perceptron"
   ]
  },
  {
   "cell_type": "code",
   "execution_count": 15,
   "id": "4797ab23",
   "metadata": {},
   "outputs": [
    {
     "data": {
      "text/plain": [
       "0.8415841584158416"
      ]
     },
     "execution_count": 15,
     "metadata": {},
     "output_type": "execute_result"
    }
   ],
   "source": [
    "X = data.drop(\"output\",axis=1)\n",
    "y= data[\"output\"]\n",
    "\n",
    "### LDA starts here\n",
    "clf1= LinearDiscriminantAnalysis(n_components=1)\n",
    "clf1.fit(X,y)\n",
    "y_pred = clf1.predict(X)\n",
    "clf1_accuracy = accuracy_score(y,y_pred)\n",
    "clf1_accuracy\n"
   ]
  },
  {
   "cell_type": "code",
   "execution_count": 16,
   "id": "fd2c4348",
   "metadata": {},
   "outputs": [
    {
     "data": {
      "text/plain": [
       "0.6072607260726073"
      ]
     },
     "execution_count": 16,
     "metadata": {},
     "output_type": "execute_result"
    }
   ],
   "source": [
    "### Perceptron starts here\n",
    "clf2 = Perceptron()\n",
    "clf2.fit(X,y)\n",
    "y_pred = clf2.predict(X)\n",
    "clf2_accuracy = accuracy_score(y,y_pred)\n",
    "clf2_accuracy"
   ]
  },
  {
   "cell_type": "code",
   "execution_count": 17,
   "id": "3e8e1ae7",
   "metadata": {},
   "outputs": [
    {
     "name": "stderr",
     "output_type": "stream",
     "text": [
      "C:\\Users\\10617\\anaconda3\\lib\\site-packages\\sklearn\\linear_model\\_logistic.py:763: ConvergenceWarning: lbfgs failed to converge (status=1):\n",
      "STOP: TOTAL NO. of ITERATIONS REACHED LIMIT.\n",
      "\n",
      "Increase the number of iterations (max_iter) or scale the data as shown in:\n",
      "    https://scikit-learn.org/stable/modules/preprocessing.html\n",
      "Please also refer to the documentation for alternative solver options:\n",
      "    https://scikit-learn.org/stable/modules/linear_model.html#logistic-regression\n",
      "  n_iter_i = _check_optimize_result(\n"
     ]
    },
    {
     "data": {
      "text/plain": [
       "0.8547854785478548"
      ]
     },
     "execution_count": 17,
     "metadata": {},
     "output_type": "execute_result"
    }
   ],
   "source": [
    "### Logistic Regression starts here\n",
    "clf3 = LogisticRegression()\n",
    "clf3.fit(X,y)\n",
    "y_pred = clf3.predict(X)\n",
    "clf3_accuracy = accuracy_score(y,y_pred)\n",
    "clf3_accuracy"
   ]
  },
  {
   "cell_type": "markdown",
   "id": "f7872fd5",
   "metadata": {},
   "source": [
    "2-f. Use the implemented classifiers from 2-a to 2-c and classify the output. [10 pts] "
   ]
  },
  {
   "cell_type": "code",
   "execution_count": 18,
   "id": "c7b0f24b",
   "metadata": {},
   "outputs": [
    {
     "data": {
      "text/plain": [
       "0.8547854785478548"
      ]
     },
     "execution_count": 18,
     "metadata": {},
     "output_type": "execute_result"
    }
   ],
   "source": [
    "clf4= my_LDA(X,y,1)\n",
    "\n",
    "clf4_accuracy = accuracy_score(y,y_pred)\n",
    "clf4_accuracy"
   ]
  },
  {
   "cell_type": "code",
   "execution_count": 19,
   "id": "c88164e7",
   "metadata": {},
   "outputs": [
    {
     "ename": "ValueError",
     "evalue": "could not convert string to float: 'age'",
     "output_type": "error",
     "traceback": [
      "\u001b[1;31m---------------------------------------------------------------------------\u001b[0m",
      "\u001b[1;31mValueError\u001b[0m                                Traceback (most recent call last)",
      "\u001b[1;32m~\\AppData\\Local\\Temp/ipykernel_16052/1420355226.py\u001b[0m in \u001b[0;36m<module>\u001b[1;34m\u001b[0m\n\u001b[0;32m      1\u001b[0m \u001b[0mdata\u001b[0m \u001b[1;33m=\u001b[0m \u001b[0mdata\u001b[0m\u001b[1;33m.\u001b[0m\u001b[0mrename\u001b[0m\u001b[1;33m(\u001b[0m\u001b[1;33m{\u001b[0m\u001b[1;34m'age'\u001b[0m\u001b[1;33m:\u001b[0m \u001b[1;34m'0'\u001b[0m\u001b[1;33m,\u001b[0m \u001b[1;34m'sex'\u001b[0m\u001b[1;33m:\u001b[0m \u001b[1;34m'1'\u001b[0m\u001b[1;33m,\u001b[0m \u001b[1;34m'cp'\u001b[0m\u001b[1;33m:\u001b[0m \u001b[1;34m'2'\u001b[0m\u001b[1;33m,\u001b[0m \u001b[1;34m'trtbps'\u001b[0m\u001b[1;33m:\u001b[0m \u001b[1;34m'3'\u001b[0m\u001b[1;33m,\u001b[0m \u001b[1;34m'chol'\u001b[0m\u001b[1;33m:\u001b[0m \u001b[1;34m'4'\u001b[0m\u001b[1;33m,\u001b[0m \u001b[1;34m'fbs'\u001b[0m\u001b[1;33m:\u001b[0m \u001b[1;34m'5'\u001b[0m\u001b[1;33m}\u001b[0m\u001b[1;33m,\u001b[0m \u001b[0maxis\u001b[0m\u001b[1;33m=\u001b[0m\u001b[1;34m'columns'\u001b[0m\u001b[1;33m)\u001b[0m\u001b[1;33m\u001b[0m\u001b[1;33m\u001b[0m\u001b[0m\n\u001b[1;32m----> 2\u001b[1;33m \u001b[0mperceptron\u001b[0m \u001b[1;33m=\u001b[0m \u001b[0mperceptron\u001b[0m\u001b[1;33m(\u001b[0m\u001b[0mX\u001b[0m\u001b[1;33m.\u001b[0m\u001b[0miloc\u001b[0m\u001b[1;33m[\u001b[0m\u001b[1;33m:\u001b[0m\u001b[1;33m,\u001b[0m\u001b[1;33m:\u001b[0m\u001b[1;36m6\u001b[0m\u001b[1;33m]\u001b[0m\u001b[1;33m,\u001b[0m \u001b[0my\u001b[0m\u001b[1;33m,\u001b[0m \u001b[1;36m0.001\u001b[0m\u001b[1;33m,\u001b[0m \u001b[1;36m100\u001b[0m\u001b[1;33m)\u001b[0m\u001b[1;33m\u001b[0m\u001b[1;33m\u001b[0m\u001b[0m\n\u001b[0m\u001b[0;32m      3\u001b[0m \u001b[0mperceptron\u001b[0m\u001b[1;33m\u001b[0m\u001b[1;33m\u001b[0m\u001b[0m\n",
      "\u001b[1;32m~\\AppData\\Local\\Temp/ipykernel_16052/3170525613.py\u001b[0m in \u001b[0;36mperceptron\u001b[1;34m(X, y, lr, epochs)\u001b[0m\n\u001b[0;32m     18\u001b[0m             \u001b[0mx_i\u001b[0m \u001b[1;33m=\u001b[0m \u001b[0mnp\u001b[0m\u001b[1;33m.\u001b[0m\u001b[0minsert\u001b[0m\u001b[1;33m(\u001b[0m\u001b[0mx_i\u001b[0m\u001b[1;33m,\u001b[0m \u001b[1;36m0\u001b[0m\u001b[1;33m,\u001b[0m \u001b[1;36m1\u001b[0m\u001b[1;33m)\u001b[0m\u001b[1;33m.\u001b[0m\u001b[0mreshape\u001b[0m\u001b[1;33m(\u001b[0m\u001b[1;33m-\u001b[0m\u001b[1;36m1\u001b[0m\u001b[1;33m,\u001b[0m\u001b[1;36m1\u001b[0m\u001b[1;33m)\u001b[0m\u001b[1;33m\u001b[0m\u001b[1;33m\u001b[0m\u001b[0m\n\u001b[0;32m     19\u001b[0m \u001b[1;33m\u001b[0m\u001b[0m\n\u001b[1;32m---> 20\u001b[1;33m             \u001b[0mx_i\u001b[0m \u001b[1;33m=\u001b[0m \u001b[0mx_i\u001b[0m\u001b[1;33m.\u001b[0m\u001b[0mastype\u001b[0m\u001b[1;33m(\u001b[0m\u001b[0mfloat\u001b[0m\u001b[1;33m)\u001b[0m \u001b[1;31m# add to float\u001b[0m\u001b[1;33m\u001b[0m\u001b[1;33m\u001b[0m\u001b[0m\n\u001b[0m\u001b[0;32m     21\u001b[0m \u001b[1;33m\u001b[0m\u001b[0m\n\u001b[0;32m     22\u001b[0m             \u001b[1;31m# Calculating prediction/hypothesis.\u001b[0m\u001b[1;33m\u001b[0m\u001b[1;33m\u001b[0m\u001b[1;33m\u001b[0m\u001b[0m\n",
      "\u001b[1;31mValueError\u001b[0m: could not convert string to float: 'age'"
     ]
    }
   ],
   "source": [
    "\n",
    "data = data.rename({'age': '0', 'sex': '1', 'cp': '2', 'trtbps': '3', 'chol': '4', 'fbs': '5'}, axis='columns')\n",
    "clf5 = perceptron(X.iloc[:,:6], y, 0.001, 100)\n",
    "clf5_accuracy = accuracy_score(y,y_pred)\n",
    "perceptron"
   ]
  },
  {
   "cell_type": "code",
   "execution_count": null,
   "id": "8b595366",
   "metadata": {},
   "outputs": [],
   "source": []
  },
  {
   "cell_type": "code",
   "execution_count": 20,
   "id": "a2549667",
   "metadata": {},
   "outputs": [
    {
     "name": "stderr",
     "output_type": "stream",
     "text": [
      "C:\\Users\\10617\\AppData\\Local\\Temp/ipykernel_16052/1847752918.py:22: RuntimeWarning: divide by zero encountered in log\n",
      "  return (-y * np.log(h) - (1 - y) * np.log(1 - h)).mean()\n",
      "C:\\Users\\10617\\AppData\\Local\\Temp/ipykernel_16052/1847752918.py:18: RuntimeWarning: overflow encountered in exp\n",
      "  return 1 / (1 + np.exp(-z))\n"
     ]
    }
   ],
   "source": [
    "clf6= my_LogisticRegression(X,y)\n",
    "clf6.fit(0.1,4000)\n",
    "y_pred = clf6.predict(X,0.5)\n",
    "\n",
    "clf6_accuracy = accuracy_score(y,y_pred)"
   ]
  },
  {
   "cell_type": "code",
   "execution_count": 21,
   "id": "79afb8fe",
   "metadata": {},
   "outputs": [
    {
     "data": {
      "text/plain": [
       "0.6105610561056105"
      ]
     },
     "execution_count": 21,
     "metadata": {},
     "output_type": "execute_result"
    }
   ],
   "source": [
    "clf6_accuracy"
   ]
  },
  {
   "cell_type": "code",
   "execution_count": 30,
   "id": "215d23b4",
   "metadata": {},
   "outputs": [
    {
     "data": {
      "text/html": [
       "<div>\n",
       "<style scoped>\n",
       "    .dataframe tbody tr th:only-of-type {\n",
       "        vertical-align: middle;\n",
       "    }\n",
       "\n",
       "    .dataframe tbody tr th {\n",
       "        vertical-align: top;\n",
       "    }\n",
       "\n",
       "    .dataframe thead th {\n",
       "        text-align: right;\n",
       "    }\n",
       "</style>\n",
       "<table border=\"1\" class=\"dataframe\">\n",
       "  <thead>\n",
       "    <tr style=\"text-align: right;\">\n",
       "      <th></th>\n",
       "      <th>Model</th>\n",
       "      <th>Accuracy</th>\n",
       "    </tr>\n",
       "  </thead>\n",
       "  <tbody>\n",
       "    <tr>\n",
       "      <th>0</th>\n",
       "      <td>clf1</td>\n",
       "      <td>0.841584</td>\n",
       "    </tr>\n",
       "    <tr>\n",
       "      <th>1</th>\n",
       "      <td>clf2</td>\n",
       "      <td>0.607261</td>\n",
       "    </tr>\n",
       "    <tr>\n",
       "      <th>2</th>\n",
       "      <td>clf3</td>\n",
       "      <td>0.854785</td>\n",
       "    </tr>\n",
       "    <tr>\n",
       "      <th>3</th>\n",
       "      <td>clf4</td>\n",
       "      <td>0.854785</td>\n",
       "    </tr>\n",
       "    <tr>\n",
       "      <th>4</th>\n",
       "      <td>clf6</td>\n",
       "      <td>0.610561</td>\n",
       "    </tr>\n",
       "  </tbody>\n",
       "</table>\n",
       "</div>"
      ],
      "text/plain": [
       "  Model  Accuracy\n",
       "0  clf1  0.841584\n",
       "1  clf2  0.607261\n",
       "2  clf3  0.854785\n",
       "3  clf4  0.854785\n",
       "4  clf6  0.610561"
      ]
     },
     "execution_count": 30,
     "metadata": {},
     "output_type": "execute_result"
    }
   ],
   "source": [
    "result_table = pd.DataFrame({'Model':['clf1','clf2','clf3','clf4','clf6'],\n",
    "                             'Accuracy':[clf1_accuracy,clf2_accuracy,clf3_accuracy,clf4_accuracy,clf6_accuracy]})\n",
    "result_table"
   ]
  },
  {
   "cell_type": "code",
   "execution_count": null,
   "id": "bf40fe58",
   "metadata": {},
   "outputs": [],
   "source": []
  }
 ],
 "metadata": {
  "kernelspec": {
   "display_name": "Python 3 (ipykernel)",
   "language": "python",
   "name": "python3"
  },
  "language_info": {
   "codemirror_mode": {
    "name": "ipython",
    "version": 3
   },
   "file_extension": ".py",
   "mimetype": "text/x-python",
   "name": "python",
   "nbconvert_exporter": "python",
   "pygments_lexer": "ipython3",
   "version": "3.9.7"
  }
 },
 "nbformat": 4,
 "nbformat_minor": 5
}
