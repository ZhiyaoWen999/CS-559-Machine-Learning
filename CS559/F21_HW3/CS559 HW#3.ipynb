{
 "cells": [
  {
   "cell_type": "markdown",
   "id": "b45e3e05",
   "metadata": {},
   "source": [
    "# <center> CS559 Homework#3: Decision Tree and Ensemble Methods</center>\n",
    "## <center> Due: 11/8/2021 Monday at 11:59 PM</center>\n",
    "\n",
    "\n",
    "In this assignment, you are going to implement four classifiers - **decision tree, random forest, adaboost, and gradient boost**. \n",
    "Then check the performance with `sklearn` built-in algorithms.\n",
    "In this work, splitting into train and test sets is not necessary. \n",
    "\n",
    "The provided data has four columns - three features (a, b, and c) and the target (class). Three features are continuous data and the target is a binary, 0 or 1. "
   ]
  },
  {
   "cell_type": "code",
   "execution_count": 1,
   "id": "9a67540c",
   "metadata": {},
   "outputs": [],
   "source": [
    "import numpy as np\n",
    "import pandas as pd\n",
    "import matplotlib.pyplot as plt\n",
    "import seaborn as sns\n",
    "from sklearn.preprocessing import StandardScaler, MinMaxScaler\n",
    "from sklearn.tree import DecisionTreeClassifier\n",
    "from sklearn.ensemble import RandomForestClassifier\n",
    "from sklearn.ensemble import AdaBoostClassifier\n",
    "from sklearn.ensemble import GradientBoostingClassifier\n",
    "from sklearn.metrics import accuracy_score,classification_report\n",
    "from sklearn.metrics import confusion_matrix\n",
    "import warnings\n",
    "warnings.filterwarnings(\"ignore\")"
   ]
  },
  {
   "cell_type": "code",
   "execution_count": 2,
   "id": "52b36fe8",
   "metadata": {},
   "outputs": [],
   "source": [
    "df = pd.read_csv('./F21_CS559_HW3_data.csv')"
   ]
  },
  {
   "cell_type": "code",
   "execution_count": 3,
   "id": "ce750de6",
   "metadata": {},
   "outputs": [
    {
     "data": {
      "text/html": [
       "<div>\n",
       "<style scoped>\n",
       "    .dataframe tbody tr th:only-of-type {\n",
       "        vertical-align: middle;\n",
       "    }\n",
       "\n",
       "    .dataframe tbody tr th {\n",
       "        vertical-align: top;\n",
       "    }\n",
       "\n",
       "    .dataframe thead th {\n",
       "        text-align: right;\n",
       "    }\n",
       "</style>\n",
       "<table border=\"1\" class=\"dataframe\">\n",
       "  <thead>\n",
       "    <tr style=\"text-align: right;\">\n",
       "      <th></th>\n",
       "      <th>a</th>\n",
       "      <th>b</th>\n",
       "      <th>c</th>\n",
       "      <th>class</th>\n",
       "    </tr>\n",
       "  </thead>\n",
       "  <tbody>\n",
       "    <tr>\n",
       "      <th>0</th>\n",
       "      <td>9.4202</td>\n",
       "      <td>-4.3507</td>\n",
       "      <td>10.3764</td>\n",
       "      <td>1</td>\n",
       "    </tr>\n",
       "    <tr>\n",
       "      <th>1</th>\n",
       "      <td>9.7044</td>\n",
       "      <td>-4.4601</td>\n",
       "      <td>10.6803</td>\n",
       "      <td>1</td>\n",
       "    </tr>\n",
       "    <tr>\n",
       "      <th>2</th>\n",
       "      <td>9.8075</td>\n",
       "      <td>-4.0894</td>\n",
       "      <td>10.6259</td>\n",
       "      <td>1</td>\n",
       "    </tr>\n",
       "    <tr>\n",
       "      <th>3</th>\n",
       "      <td>9.2771</td>\n",
       "      <td>-4.0349</td>\n",
       "      <td>10.1166</td>\n",
       "      <td>1</td>\n",
       "    </tr>\n",
       "    <tr>\n",
       "      <th>4</th>\n",
       "      <td>9.6447</td>\n",
       "      <td>-3.5968</td>\n",
       "      <td>10.2936</td>\n",
       "      <td>1</td>\n",
       "    </tr>\n",
       "  </tbody>\n",
       "</table>\n",
       "</div>"
      ],
      "text/plain": [
       "        a       b        c  class\n",
       "0  9.4202 -4.3507  10.3764      1\n",
       "1  9.7044 -4.4601  10.6803      1\n",
       "2  9.8075 -4.0894  10.6259      1\n",
       "3  9.2771 -4.0349  10.1166      1\n",
       "4  9.6447 -3.5968  10.2936      1"
      ]
     },
     "execution_count": 3,
     "metadata": {},
     "output_type": "execute_result"
    }
   ],
   "source": [
    "df.head(5)"
   ]
  },
  {
   "cell_type": "markdown",
   "id": "57b23df4",
   "metadata": {},
   "source": [
    "### Question 1: Decisition Tree Classifier\n",
    "- A simple DT implementation (10 pts.)\n",
    "    - to make the problem simple, implement a decision tree with depth of 3 (the root index is 0).\n",
    "    - calculate the gini index for each attribute and pick the best attribute for each node.\n",
    "    - calculate the accuracy using accuracy score. \n",
    "- Classification using DecistionTreeClassifier (5 pts)\n",
    "- Evaluation (5 pts)"
   ]
  },
  {
   "cell_type": "code",
   "execution_count": 7,
   "id": "9065568d",
   "metadata": {},
   "outputs": [
    {
     "name": "stdout",
     "output_type": "stream",
     "text": [
      "range(0, 2500)\n"
     ]
    }
   ],
   "source": [
    "print(range(len(list(df['class']))))"
   ]
  },
  {
   "cell_type": "code",
   "execution_count": 8,
   "id": "bb708867",
   "metadata": {},
   "outputs": [],
   "source": [
    "# sorry, I may not able to show the algorithm, but this result might show some ideas.\n",
    "\n",
    "def MyDecisitionTree(data,depth): \n",
    "    \n",
    "    m=data['class'].size\n",
    "    # Count of each class in the current node.\n",
    "    num_parent =[np.sum(y == c) for c in range(len(set(list(data['class']))))]\n",
    "    #count gini impurity\n",
    "    best_gini = 1.0-sum((n/m) **2 for n in num_parent)\n",
    "    \n",
    "    best_idx, best_thr = None, None\n",
    "    \n",
    "    for i in range depth:\n",
    "        \n",
    "        # loop all the feature\n",
    "        for idx in range(data.iloc[:,:3]):\n",
    "\n",
    "            thresholds, classes = zip(*sorted(zip(data.iloc[:,idx], data['class'])))\n",
    "\n",
    "            num_left = [0] * data['class']\n",
    "            num_right = num_parent.copy()\n",
    "\n",
    "            for i in range(1,m):\n",
    "                c = classes[i-1]\n",
    "                num_left[c] += 1\n",
    "                num_right[c] -= 1\n",
    "\n",
    "                # count the gini index of left tree\n",
    "                gini_left = 1.0 - sum((num_left[x] / i) ** 2 for x in range(len(set(list(data['class'])))))\n",
    "\n",
    "                # count the gini index of right tree\n",
    "                gini_right = 1.0 - sum((num_right[x] / (m - i)) ** 2 for x in range(len(set(list(data['class'])))))\n",
    "\n",
    "                # gini impurity of a split is the weighted average of Gini\n",
    "                gini = (i * gini_left + (m - i) * gini_right) / m\n",
    "\n",
    "                if thresholds[i] == thresholds[i - 1]:\n",
    "                        continue\n",
    "\n",
    "                if gini < best_gini:\n",
    "                    best_gini = gini\n",
    "                    best_idx = idx\n",
    "                    best_thr = (thresholds[i] + thresholds[i - 1]) / 2  # midpoint\n",
    "\n",
    "        return best_idx, best_thr\n",
    "\n",
    "    \n",
    "# if the function works, we can use accuracy_score()"
   ]
  },
  {
   "cell_type": "code",
   "execution_count": null,
   "id": "c13ddb1e",
   "metadata": {},
   "outputs": [],
   "source": []
  },
  {
   "cell_type": "code",
   "execution_count": 50,
   "id": "a4f73930",
   "metadata": {},
   "outputs": [],
   "source": [
    "X=df.iloc[:,:3]\n",
    "y = df['class']\n",
    "model = DecisionTreeClassifier(criterion='gini',max_depth=3)\n",
    "\n",
    "clf = model.fit(X, y)"
   ]
  },
  {
   "cell_type": "code",
   "execution_count": null,
   "id": "a7999df4",
   "metadata": {},
   "outputs": [],
   "source": []
  },
  {
   "cell_type": "code",
   "execution_count": 51,
   "id": "16ca2f91",
   "metadata": {},
   "outputs": [
    {
     "name": "stdout",
     "output_type": "stream",
     "text": [
      "*************** Tree Summary ***************\n",
      "Classes:  [1 2]\n",
      "Tree Depth:  3\n",
      "No. of leaves:  6\n",
      "No. of features:  3\n",
      "--------------------------------------------------------\n",
      "\n",
      "*************** Evaluation on Data ***************\n",
      "Accuracy Score:  0.9996\n",
      "              precision    recall  f1-score   support\n",
      "\n",
      "           1       1.00      1.00      1.00      1249\n",
      "           2       1.00      1.00      1.00      1251\n",
      "\n",
      "    accuracy                           1.00      2500\n",
      "   macro avg       1.00      1.00      1.00      2500\n",
      "weighted avg       1.00      1.00      1.00      2500\n",
      "\n",
      "--------------------------------------------------------\n",
      "\n",
      "Accuracy: 0.9996\n"
     ]
    }
   ],
   "source": [
    "print('*************** Tree Summary ***************')\n",
    "print('Classes: ', clf.classes_)\n",
    "print('Tree Depth: ', clf.tree_.max_depth)\n",
    "print('No. of leaves: ', clf.tree_.n_leaves)\n",
    "print('No. of features: ', clf.n_features_)\n",
    "print('--------------------------------------------------------')\n",
    "print(\"\")\n",
    "\n",
    "print('*************** Evaluation on Data ***************')\n",
    "score = model.score(X, y)\n",
    "predict = model.predict(X)\n",
    "print('Accuracy Score: ', score)\n",
    "# Look at classification report to evaluate the model\n",
    "print(classification_report(y, predict))\n",
    "print('--------------------------------------------------------')\n",
    "print(\"\")\n",
    "print(\"Accuracy:\",accuracy_score(y, predict))"
   ]
  },
  {
   "cell_type": "code",
   "execution_count": null,
   "id": "22f9a682",
   "metadata": {},
   "outputs": [],
   "source": []
  },
  {
   "cell_type": "markdown",
   "id": "8446cae2",
   "metadata": {},
   "source": [
    "### Question 2: Random Forest Classifier\n",
    "- A simle RF implementation (10 pts)\n",
    "    - make a bootstrap baggin function to make 3 samples.\n",
    "    - for each sample, run a simple DT from question 1.\n",
    "    - then average the accuracy. \n",
    "- Classification using RandomForestClassifier (5 pts)\n",
    "- Evaluation (5 pts)"
   ]
  },
  {
   "cell_type": "code",
   "execution_count": null,
   "id": "94766822",
   "metadata": {},
   "outputs": [],
   "source": [
    "# change the method of selecting feature in the all features to number of log(all_features)\n",
    "\n",
    "rand_tree=[]\n",
    "\n",
    "\n",
    "def my_RFC (number_trees,data):\n",
    "    features_len=data['class'].size \n",
    "    for i in range(number_trees):\n",
    "        # for boostrap, randomly select the features \n",
    "        indices = np.random.permutation(features_len)[:max(1,int(log2(features_len)))]\n",
    "        \n",
    "        # if the decisiontree function work,..from question 1\n",
    "        cart_tree = MyDecisitionTree(data.iloc[:,:3][indices],depth)\n",
    "        rand_tree.append(copy(cart_tree))\n",
    "        \n",
    "# if the function works, we can use accuracy_score()"
   ]
  },
  {
   "cell_type": "code",
   "execution_count": 55,
   "id": "a14ee50b",
   "metadata": {},
   "outputs": [],
   "source": [
    "clf=RandomForestClassifier(n_estimators=100,max_samples=3)\n",
    "\n",
    "clf.fit(X,y)\n",
    "y_pred=clf.predict(X)\n"
   ]
  },
  {
   "cell_type": "code",
   "execution_count": 56,
   "id": "a3370ac5",
   "metadata": {},
   "outputs": [
    {
     "data": {
      "text/plain": [
       "c    0.375000\n",
       "a    0.323718\n",
       "b    0.301282\n",
       "dtype: float64"
      ]
     },
     "execution_count": 56,
     "metadata": {},
     "output_type": "execute_result"
    }
   ],
   "source": [
    "# to find the most important features\n",
    "feature_imp = pd.Series(clf.feature_importances_,index=['a','b','c']).sort_values(ascending=False)\n",
    "feature_imp"
   ]
  },
  {
   "cell_type": "code",
   "execution_count": 57,
   "id": "a311d522",
   "metadata": {},
   "outputs": [
    {
     "name": "stderr",
     "output_type": "stream",
     "text": [
      "No handles with labels found to put in legend.\n"
     ]
    },
    {
     "data": {
      "image/png": "[encoded data removed]",
      "text/plain": [
       "<Figure size 432x288 with 1 Axes>"
      ]
     },
     "metadata": {
      "needs_background": "light"
     },
     "output_type": "display_data"
    }
   ],
   "source": [
    "sns.barplot(x=feature_imp, y=feature_imp.index)\n",
    "\n",
    "plt.xlabel('Feature Importance Score')\n",
    "plt.ylabel('Features')\n",
    "plt.title(\"Visualizing Important Features\")\n",
    "plt.legend()\n",
    "plt.show()"
   ]
  },
  {
   "cell_type": "code",
   "execution_count": 59,
   "id": "788a1011",
   "metadata": {},
   "outputs": [
    {
     "name": "stdout",
     "output_type": "stream",
     "text": [
      "*************** Evaluation on Data ***************\n",
      "              precision    recall  f1-score   support\n",
      "\n",
      "           1       0.94      0.99      0.96      1249\n",
      "           2       0.99      0.93      0.96      1251\n",
      "\n",
      "    accuracy                           0.96      2500\n",
      "   macro avg       0.96      0.96      0.96      2500\n",
      "weighted avg       0.97      0.96      0.96      2500\n",
      "\n",
      "--------------------------------------------------------\n",
      "\n",
      "Accuracy: 0.9632\n"
     ]
    }
   ],
   "source": [
    "print('*************** Evaluation on Data ***************')\n",
    "score = clf.score(X, y)\n",
    "predict = clf.predict(X)\n",
    "\n",
    "# Look at classification report to evaluate the model\n",
    "print(classification_report(y, predict))\n",
    "print('--------------------------------------------------------')\n",
    "print(\"\")\n",
    "print(\"Accuracy:\",accuracy_score(y, y_pred))"
   ]
  },
  {
   "cell_type": "markdown",
   "id": "c0454df6",
   "metadata": {},
   "source": [
    "### Question 3: AdaBoost Classifier\n",
    "- AB implementation (15 pts)\n",
    "- Classification using AdaBoostClassifier (5 pts)\n",
    "- Evaluation (5 pts)"
   ]
  },
  {
   "cell_type": "code",
   "execution_count": null,
   "id": "3c6044fa",
   "metadata": {},
   "outputs": [],
   "source": [
    "# Firstly, we are going to set a based decision tree function as decision stump\n",
    "\n",
    "def decisionTree(data,sample_weight):\n",
    "    # the shape of dataset\n",
    "    n=data.shape[1]\n",
    "    \n",
    "    for i in range(n):\n",
    "        feature = data[:,i] \n",
    "        \n",
    "        feature_unique = np.sort(np.unique(feature)) # sort the feature \n",
    "        \n",
    "        for j in range(len(feature_unique)):\n",
    "            # setting the threshold value\n",
    "            threshold = (feature_unique[j] + feature_unique[j+1])/2\n",
    "            \n",
    "            # to distinguish what threshold as the true features \n",
    "            for z in (0,1):\n",
    "                if z==1:\n",
    "                    y = 2*(feature>= threshold)-1\n",
    "                else:\n",
    "                    y =2*(feature < threshold)-1\n",
    "                err = np.sum((y != y)*sample_weight) \n",
    "                \n",
    "    return err\n",
    "\n",
    "\n",
    "#Secondly, to set a AdaBoostClassifier\n",
    "\n",
    "estimators =[]\n",
    "alphas = []\n",
    "def my_adaboost(data,n_estimators=100):\n",
    "    \n",
    "    sample_weight = np.ones(len(data))/len(data) # initialize the sample as 1/N\n",
    "    \n",
    "    for i in range(n_estimators):\n",
    "        # dc is from decisionTree() \n",
    "        dc = decisionTree(data,sample_weight) #dc return an error\n",
    "        \n",
    "        alpha = 1/2 *np.log((1-dc)/dc) # the weight of the lastest estimator\n",
    "        \n",
    "        y_pred = dc.predict(data)# Sorry, I do not set the predict function\n",
    "        #,but something like if the feature is true, then 2*(feature >= best_threshold)-1 \n",
    "        # else 2*(feature >= best_threshold)-1\n",
    "        \n",
    "        sample_weight *= np.exp(-alpha*y_pred*y) \n",
    "        \n",
    "        sample_weight /= np.sum(sample_weight) # sum all the estimators\n",
    "        \n",
    "        estimators.append(dc)\n",
    "        alpha.append(alpha)\n",
    "        \n",
    "    return estimators,alpha\n",
    "        "
   ]
  },
  {
   "cell_type": "code",
   "execution_count": 60,
   "id": "ffabffe3",
   "metadata": {},
   "outputs": [],
   "source": [
    "Ada_model = AdaBoostClassifier(n_estimators=50,learning_rate=1)\n",
    "Ada_model.fit(X,y)\n",
    "\n",
    "y_pred = model.predict(X)\n"
   ]
  },
  {
   "cell_type": "code",
   "execution_count": 61,
   "id": "6970aaeb",
   "metadata": {},
   "outputs": [
    {
     "name": "stdout",
     "output_type": "stream",
     "text": [
      "*************** Evaluation on Data ***************\n",
      "              precision    recall  f1-score   support\n",
      "\n",
      "           1       1.00      1.00      1.00      1249\n",
      "           2       1.00      1.00      1.00      1251\n",
      "\n",
      "    accuracy                           1.00      2500\n",
      "   macro avg       1.00      1.00      1.00      2500\n",
      "weighted avg       1.00      1.00      1.00      2500\n",
      "\n",
      "--------------------------------------------------------\n",
      "\n",
      "Accuracy: 0.9996\n"
     ]
    }
   ],
   "source": [
    "print('*************** Evaluation on Data ***************')\n",
    "score = Ada_model.score(X, y)\n",
    "predict = Ada_model.predict(X)\n",
    "\n",
    "# Look at classification report to evaluate the model\n",
    "print(classification_report(y, predict))\n",
    "print('--------------------------------------------------------')\n",
    "print(\"\")\n",
    "print(\"Accuracy:\",accuracy_score(y, y_pred))\n"
   ]
  },
  {
   "cell_type": "markdown",
   "id": "75e0b530",
   "metadata": {},
   "source": [
    "### Question 4: Gradient Boost Classifier\n",
    "- GB implementation (15 pts)\n",
    "- Classification using GradientBoostingClassifier (5 pts)\n",
    "- Evaluation (5 pts)"
   ]
  },
  {
   "cell_type": "code",
   "execution_count": null,
   "id": "1beea6c3",
   "metadata": {},
   "outputs": [],
   "source": [
    "# pretend we have regeressiontree, as for classification we need to count residual \n",
    "\n",
    "def my_gradient_boost(data,n_estimators):\n",
    "    \n",
    "    regression_tree.fit(data.iloc[:,:3],data['class'])\n",
    "    y_pred = regerssion.predict(data.iloc[:,:3],data['class'])\n",
    "    \n",
    "    for i in range(n_estimators):\n",
    "        \n",
    "        gradient = loss.gradient(y,y_pred)\n",
    "        regerssion_tree[i].fit(data.iloc[:,:3],gradient) # for loop is for the next tree to fit the tree before it\n",
    "        \n",
    "        y_ pred -=np.multiply(learning_rate,regerssion_tree[i].predict(data.iloc[:,:3]) )\n",
    "        \n",
    "        # to cauclate the sum the residual and max probability of y_pred\n",
    "        y_pred = np.exp(y_pred)/np.expand_dims(np.sum(np.exp(y_pred), axis=1), axis=1)\n",
    "        y_pred = np.argmax(y_pred)"
   ]
  },
  {
   "cell_type": "code",
   "execution_count": 67,
   "id": "8043c714",
   "metadata": {},
   "outputs": [
    {
     "data": {
      "text/plain": [
       "GradientBoostingClassifier(learning_rate=0.5, random_state=0)"
      ]
     },
     "execution_count": 67,
     "metadata": {},
     "output_type": "execute_result"
    }
   ],
   "source": [
    "GBC = GradientBoostingClassifier(n_estimators=100, learning_rate=0.5,max_depth=3, random_state=0)\n",
    "GBC.fit(X, y)\n",
    "\n"
   ]
  },
  {
   "cell_type": "code",
   "execution_count": 68,
   "id": "c8971fd8",
   "metadata": {},
   "outputs": [
    {
     "name": "stdout",
     "output_type": "stream",
     "text": [
      "*************** Evaluation on Data ***************\n",
      "              precision    recall  f1-score   support\n",
      "\n",
      "           1       1.00      1.00      1.00      1249\n",
      "           2       1.00      1.00      1.00      1251\n",
      "\n",
      "    accuracy                           1.00      2500\n",
      "   macro avg       1.00      1.00      1.00      2500\n",
      "weighted avg       1.00      1.00      1.00      2500\n",
      "\n",
      "--------------------------------------------------------\n",
      "\n",
      "Accuracy: 0.9996\n"
     ]
    }
   ],
   "source": [
    "print('*************** Evaluation on Data ***************')\n",
    "score = GBC.score(X, y)\n",
    "predict = GBC.predict(X)\n",
    "\n",
    "# Look at classification report to evaluate the model\n",
    "print(classification_report(y, predict))\n",
    "print('--------------------------------------------------------')\n",
    "print(\"\")\n",
    "print(\"Accuracy:\",accuracy_score(y, y_pred))"
   ]
  },
  {
   "cell_type": "code",
   "execution_count": null,
   "id": "28d1c538",
   "metadata": {},
   "outputs": [],
   "source": []
  }
 ],
 "metadata": {
  "kernelspec": {
   "display_name": "Python 3 (ipykernel)",
   "language": "python",
   "name": "python3"
  },
  "language_info": {
   "codemirror_mode": {
    "name": "ipython",
    "version": 3
   },
   "file_extension": ".py",
   "mimetype": "text/x-python",
   "name": "python",
   "nbconvert_exporter": "python",
   "pygments_lexer": "ipython3",
   "version": "3.8.5"
  }
 },
 "nbformat": 4,
 "nbformat_minor": 5
}
